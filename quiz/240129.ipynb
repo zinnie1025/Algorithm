{
 "cells": [
  {
   "cell_type": "markdown",
   "metadata": {},
   "source": [
    "#### **<p style=\"font-family: 'JetBrains Mono'; font-weight:normal; letter-spacing:2px; color:#00A368; font-size:120%;\">게임 맵 최단거리</p>**\n",
    "[문제 링크](https://school.programmers.co.kr/learn/courses/30/lessons/1844)"
   ]
  },
  {
   "cell_type": "code",
   "execution_count": 41,
   "metadata": {},
   "outputs": [],
   "source": [
    "import numpy as np\n",
    "maps = [[1,0,1,1,1],[1,0,1,0,1],[1,0,1,1,1],[1,1,1,0,1],[0,0,0,0,1]]"
   ]
  },
  {
   "cell_type": "code",
   "execution_count": 57,
   "metadata": {},
   "outputs": [],
   "source": [
    "from collections import deque\n",
    "\n",
    "dy = [0, 1, 0, -1]\n",
    "dx = [1, 0, -1, 0]\n",
    "\n",
    "\n",
    "def solution(maps):\n",
    "    n, m = len(maps), len(maps[0])\n",
    "    target = n - 1, m - 1\n",
    "    dq = deque([(0, 0, 1)])\n",
    "    chk = [[False] * m for _ in range(n)]\n",
    "    \n",
    "    while len(dq) != 0:\n",
    "        y, x, moved = dq.popleft()\n",
    "        for k in range(4):\n",
    "            ny = y + dy[k]\n",
    "            nx = x + dx[k]\n",
    "            if 0 <= ny < n and 0 <= nx < m:\n",
    "                if maps[ny][nx] == 1 and chk[ny][nx] == False:\n",
    "                    chk[ny][nx] = True\n",
    "                    dq.append([ny, nx, moved + 1])\n",
    "                    if ny == target[0] and nx == target[1]:\n",
    "                        return moved + 1\n",
    "    return -1"
   ]
  },
  {
   "cell_type": "code",
   "execution_count": 59,
   "metadata": {},
   "outputs": [
    {
     "data": {
      "text/plain": [
       "11"
      ]
     },
     "execution_count": 59,
     "metadata": {},
     "output_type": "execute_result"
    }
   ],
   "source": [
    "solution(maps)"
   ]
  },
  {
   "cell_type": "code",
   "execution_count": null,
   "metadata": {},
   "outputs": [],
   "source": [
    "#* 더 해야 할 것!\n",
    "#* 비주얼 시각화 연습\n",
    "#* A -> B \n",
    "'''\n",
    "컴백홈\n",
    "https://www.acmicpc.net/problem/14888\n",
    "https://www.acmicpc.net/problem/12101\n",
    "https://www.acmicpc.net/problem/14889\n",
    "https://www.acmicpc.net/problem/16638\n",
    "'''\n",
    "#* 시뮬레이션 ~ 이진탐색 "
   ]
  }
 ],
 "metadata": {
  "kernelspec": {
   "display_name": "genie",
   "language": "python",
   "name": "python3"
  },
  "language_info": {
   "codemirror_mode": {
    "name": "ipython",
    "version": 3
   },
   "file_extension": ".py",
   "mimetype": "text/x-python",
   "name": "python",
   "nbconvert_exporter": "python",
   "pygments_lexer": "ipython3",
   "version": "3.8.16"
  }
 },
 "nbformat": 4,
 "nbformat_minor": 2
}
