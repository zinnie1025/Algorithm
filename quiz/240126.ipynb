{
 "cells": [
  {
   "cell_type": "markdown",
   "metadata": {},
   "source": [
    "## <p style=\"font-family:JetBrains Mono; font-weight:normal; letter-spacing:2px; color:#00FF00; font-size:80%; text-align:left;padding: 0px;\">백준 16953 A -> B</p>\n",
    "[문제 링크](https://www.acmicpc.net/problem/16953)"
   ]
  },
  {
   "cell_type": "code",
   "execution_count": 35,
   "metadata": {},
   "outputs": [],
   "source": [
    "#* 정수 A를 B로 바꾸려고 한다.\n",
    "#* 2를 곱한다\n",
    "#* 1을 수의 가장 오른쪽에 추가한다.\n",
    "\n",
    "#TODO : A를 B로 바꾸는데 필요한 연산의 최솟값에 1을 더한값을 출력한다. 만들 수 없는 경우에는 -1을 출력한다.\n",
    "# 2 162\n",
    "# 2 4 8 81 162\n",
    "# 4 42\n",
    "# -1\n",
    "# 100 40021\n",
    "# 100 200 2001 4002 40021\n",
    "\n",
    "#* dfs \n",
    "#* 타겟넘버랑 비슷한 문제 같다.?\n",
    "#* 트리구조\n",
    "#* 연산 방식을 (2를 곱하거나 1을 수의 가장 오른쪽에 추가하거나 해서) \n",
    "#* target숫자를 만들 수 있는 경우의 수를 찾는다.\n",
    "#* dfs로는 모르겠다.\n",
    "\n",
    "#* bfs로 해야할까?\n",
    "\n",
    "'''\n",
    "문제에 내용에서 'A를 B로 바꾸는데 필요한 연산의 최솟값을 구해보자.' 이거면 bfs를 써야할까요 아니면 dfs를 써야할까요?\n",
    "\n",
    "여기선 두가지 연산이죠 \n",
    "트리로 생각해보면 한쪽은 곱하기2, 다른한쪽은 오른쪽에 1추가\n",
    "'''"
   ]
  },
  {
   "cell_type": "code",
   "execution_count": 6,
   "metadata": {},
   "outputs": [
    {
     "data": {
      "text/plain": [
       "5"
      ]
     },
     "execution_count": 6,
     "metadata": {},
     "output_type": "execute_result"
    }
   ],
   "source": [
    "from collections import deque\n",
    "\n",
    "A, B = 2, 162\n",
    "def bfs(A, B):\n",
    "    dq = deque([(A,1)])\n",
    "    while len(dq) != 0:\n",
    "        cur, cnt =  dq.popleft()\n",
    "        if cur == B:\n",
    "            return cnt\n",
    "        elif cur > B:\n",
    "            continue\n",
    "        dq.append((cur * 2, cnt + 1))\n",
    "        dq.append((cur * 10 + 1, cnt + 1))\n",
    "    return -1\n",
    "            \n",
    "bfs(A, B)"
   ]
  },
  {
   "cell_type": "markdown",
   "metadata": {},
   "source": [
    "## <p style=\"font-family:JetBrains Mono; font-weight:normal; letter-spacing:2px; color:#00FF00; font-size:80%; text-align:left;padding: 0px;\">백준 1189 컴백홈</p>\n",
    "[문제 링크](https://www.acmicpc.net/problem/1189 )"
   ]
  }
 ],
 "metadata": {
  "kernelspec": {
   "display_name": "genie",
   "language": "python",
   "name": "python3"
  },
  "language_info": {
   "codemirror_mode": {
    "name": "ipython",
    "version": 3
   },
   "file_extension": ".py",
   "mimetype": "text/x-python",
   "name": "python",
   "nbconvert_exporter": "python",
   "pygments_lexer": "ipython3",
   "version": "3.8.16"
  }
 },
 "nbformat": 4,
 "nbformat_minor": 2
}
