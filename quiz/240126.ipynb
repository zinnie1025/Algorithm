{
 "cells": [
  {
   "cell_type": "markdown",
   "metadata": {},
   "source": [
    "## <p style=\"font-family:JetBrains Mono; font-weight:normal; letter-spacing:2px; color:#00FF00; font-size:80%; text-align:left;padding: 0px;\">백준 16953 A -> B</p>\n",
    "[문제 링크](https://www.acmicpc.net/problem/16953)"
   ]
  },
  {
   "cell_type": "code",
   "execution_count": 6,
   "metadata": {},
   "outputs": [
    {
     "data": {
      "text/plain": [
       "5"
      ]
     },
     "execution_count": 6,
     "metadata": {},
     "output_type": "execute_result"
    }
   ],
   "source": [
    "from collections import deque\n",
    "\n",
    "A, B = 2, 162\n",
    "def bfs(A, B):\n",
    "    dq = deque([(A,1)])\n",
    "    while len(dq) != 0:\n",
    "        cur, cnt =  dq.popleft()\n",
    "        if cur == B:\n",
    "            return cnt\n",
    "        elif cur > B:\n",
    "            continue\n",
    "        dq.append((cur * 2, cnt + 1))\n",
    "        dq.append((cur * 10 + 1, cnt + 1))\n",
    "    return -1\n",
    "            \n",
    "bfs(A, B)"
   ]
  },
  {
   "cell_type": "markdown",
   "metadata": {},
   "source": [
    "## <p style=\"font-family:JetBrains Mono; font-weight:normal; letter-spacing:2px; color:#00FF00; font-size:80%; text-align:left;padding: 0px;\">백준 1189 컴백홈</p>\n",
    "[문제 링크](https://www.acmicpc.net/problem/1189 )"
   ]
  }
 ],
 "metadata": {
  "kernelspec": {
   "display_name": "genie",
   "language": "python",
   "name": "python3"
  },
  "language_info": {
   "codemirror_mode": {
    "name": "ipython",
    "version": 3
   },
   "file_extension": ".py",
   "mimetype": "text/x-python",
   "name": "python",
   "nbconvert_exporter": "python",
   "pygments_lexer": "ipython3",
   "version": "3.8.16"
  }
 },
 "nbformat": 4,
 "nbformat_minor": 2
}
