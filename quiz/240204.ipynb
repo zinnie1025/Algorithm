{
 "cells": [
  {
   "cell_type": "markdown",
   "metadata": {},
   "source": [
    "#### **<p style=\"font-family: 'JetBrains Mono'; font-weight:normal; letter-spacing:2px; color:#00A368; font-size:120%;\">네트워크</p>**\n",
    "[문제 링크](https://school.programmers.co.kr/learn/courses/30/lessons/43162)"
   ]
  },
  {
   "cell_type": "code",
   "execution_count": null,
   "metadata": {},
   "outputs": [],
   "source": []
  },
  {
   "cell_type": "markdown",
   "metadata": {},
   "source": [
    "#### **<p style=\"font-family: 'JetBrains Mono'; font-weight:normal; letter-spacing:2px; color:#00A368; font-size:120%;\">백준 1189 컴백홈</p>**\n",
    "[문제 링크](https://school.programmers.co.kr/learn/courses/30/lessons/1189)"
   ]
  },
  {
   "cell_type": "code",
   "execution_count": 25,
   "metadata": {},
   "outputs": [
    {
     "name": "stdout",
     "output_type": "stream",
     "text": [
      "11\n"
     ]
    }
   ],
   "source": [
    "from collections import deque\n",
    "\n",
    "mymap = [\n",
    "['.','.','.','.'],\n",
    "['.','T','.','.'],\n",
    "['.','.','.','.'],\n",
    "]\n",
    "R, C, K = 3, 4, 6 #* 세로, 가로 거리\n",
    "\n",
    "#TODO : 거리가 K인 가짓수 구하기\n",
    "dy = [0, 1, 0, -1]\n",
    "dx = [1, 0 , -1, 0]\n",
    "\n"
   ]
  },
  {
   "cell_type": "markdown",
   "metadata": {},
   "source": [
    "## <p style=\"font-family:JetBrains Mono; font-weight:normal; letter-spacing:2px; color:#00A368; font-size:80%; text-align:left;padding: 0px;\">백준 14888 연산자 끼워넣기</p>\n",
    "[문제 링크](https://www.acmicpc.net/problem/14888)"
   ]
  },
  {
   "cell_type": "code",
   "execution_count": null,
   "metadata": {},
   "outputs": [],
   "source": []
  },
  {
   "cell_type": "markdown",
   "metadata": {},
   "source": [
    "## <p style=\"font-family:JetBrains Mono; font-weight:normal; letter-spacing:2px; color:#00A368; font-size:80%; text-align:left;padding: 0px;\">백준 12101 1, 2, 3 더하기 2</p>\n",
    "[문제 링크](https://www.acmicpc.net/problem/12101)"
   ]
  },
  {
   "cell_type": "code",
   "execution_count": null,
   "metadata": {},
   "outputs": [],
   "source": []
  },
  {
   "cell_type": "markdown",
   "metadata": {},
   "source": [
    "## <p style=\"font-family:JetBrains Mono; font-weight:normal; letter-spacing:2px; color:#00A368; font-size:80%; text-align:left;padding: 0px;\">백준 14889 스타트와 링크</p>\n",
    "[문제 링크](https://www.acmicpc.net/problem/14889)"
   ]
  },
  {
   "cell_type": "code",
   "execution_count": null,
   "metadata": {},
   "outputs": [],
   "source": []
  },
  {
   "cell_type": "markdown",
   "metadata": {},
   "source": [
    "## <p style=\"font-family:JetBrains Mono; font-weight:normal; letter-spacing:2px; color:#00A368; font-size:80%; text-align:left;padding: 0px;\">백준 16638 괄호 추가하기2</p>\n",
    "[문제 링크](https://www.acmicpc.net/problem/16638)"
   ]
  },
  {
   "cell_type": "code",
   "execution_count": null,
   "metadata": {},
   "outputs": [],
   "source": []
  }
 ],
 "metadata": {
  "kernelspec": {
   "display_name": "genie",
   "language": "python",
   "name": "python3"
  },
  "language_info": {
   "codemirror_mode": {
    "name": "ipython",
    "version": 3
   },
   "file_extension": ".py",
   "mimetype": "text/x-python",
   "name": "python",
   "nbconvert_exporter": "python",
   "pygments_lexer": "ipython3",
   "version": "3.8.16"
  }
 },
 "nbformat": 4,
 "nbformat_minor": 2
}
