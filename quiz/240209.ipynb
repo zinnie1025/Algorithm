{
 "cells": [
  {
   "cell_type": "markdown",
   "metadata": {},
   "source": [
    "#### **<p style=\"font-family: 'JetBrains Mono'; font-weight:normal; letter-spacing:2px; color:#00A368; font-size:120%;\">네트워크</p>**\n",
    "[문제 링크](https://school.programmers.co.kr/learn/courses/30/lessons/43162)"
   ]
  },
  {
   "cell_type": "code",
   "execution_count": 1,
   "metadata": {},
   "outputs": [],
   "source": [
    "n = 3; computers = [[1, 1, 0], [1, 1, 0], [0, 0, 1]];"
   ]
  },
  {
   "cell_type": "code",
   "execution_count": 2,
   "metadata": {},
   "outputs": [
    {
     "data": {
      "text/plain": [
       "2"
      ]
     },
     "execution_count": 2,
     "metadata": {},
     "output_type": "execute_result"
    }
   ],
   "source": [
    "from collections import deque\n",
    "\n",
    "#* 테스트는 통과했으나 제출 시 정확도(15.4/100)\n",
    "dy = [0, 1, 0, -1]\n",
    "dx = [1, 0, -1, 0]\n",
    "\n",
    "def solution(n, computers):\n",
    "\n",
    "    chk = [[False] * n for _ in range(n)]\n",
    "    def dfs(y, x):\n",
    "        for k in range(4):\n",
    "            ny = y + dy[k]\n",
    "            nx = x + dx[k]\n",
    "            if 0 <= ny < n and 0 <= nx < n:\n",
    "                if computers[ny][nx] == 1 and chk[ny][nx] == False:\n",
    "                    chk[ny][nx] = True\n",
    "                    dfs(ny, nx)\n",
    "                    \n",
    "    result = 0\n",
    "    for j in range(n):\n",
    "        for i in range(n):\n",
    "            if computers[j][i] == 1 and chk[j][i] == False:\n",
    "                chk[j][i] = True\n",
    "                dfs(j, i)\n",
    "                result += 1\n",
    "    return result\n",
    "solution(n, computers)"
   ]
  },
  {
   "cell_type": "markdown",
   "metadata": {},
   "source": [
    "## <p style=\"font-family:JetBrains Mono; font-weight:normal; letter-spacing:2px; color:#00A368; font-size:80%; text-align:left;padding: 0px;\">단어 변환(BFS/DFS)</p>\n",
    "[문제 링크](https://school.programmers.co.kr/learn/courses/30/lessons/43163)"
   ]
  },
  {
   "cell_type": "code",
   "execution_count": 4,
   "metadata": {},
   "outputs": [],
   "source": [
    "begin = \"hit\"; target = \"cog\"; words = [\"hot\", \"dot\", \"dog\", \"lot\", \"log\", \"cog\"] #* 4\n",
    "#TODO hit [hot dot dog cog] -> 4\n",
    "#* 한 번에 한 개의 알파벳만 변경 가능\n",
    "#* words에 있는 단어로만 변환 가능\n",
    "#* 최소 몇 단계를 거쳐 begin의 단어를 target으로 변경 가능한지?"
   ]
  },
  {
   "cell_type": "code",
   "execution_count": 5,
   "metadata": {},
   "outputs": [
    {
     "data": {
      "text/plain": [
       "4"
      ]
     },
     "execution_count": 5,
     "metadata": {},
     "output_type": "execute_result"
    }
   ],
   "source": [
    "from collections import deque\n",
    "\n",
    "def solution(begin, target, words):\n",
    "    if target not in words:\n",
    "        return 0\n",
    "    dq = deque([(begin, 0)]) #* 시작 단어와 변한 횟수\n",
    "    while dq:\n",
    "        cur_word, stage = dq.popleft()\n",
    "        if cur_word == target:\n",
    "            return stage\n",
    "        for word in words:\n",
    "            if sum(c1 != c2 for c1, c2 in zip(cur_word, word)) == 1: #* 한 글자만 다른 경우\n",
    "                dq.append((word, stage + 1)) #* 다음 단계 단어와 변환 횟수 큐에 추가\n",
    "                words.remove(word) #* 이미 방문한 단어는 제거\n",
    "    return 0\n",
    "                \n",
    "solution(begin, target, words)\n",
    "                    "
   ]
  },
  {
   "cell_type": "markdown",
   "metadata": {},
   "source": [
    "#### **<p style=\"font-family: 'JetBrains Mono'; font-weight:normal; letter-spacing:2px; color:#00A368; font-size:120%;\">백준 1189 컴백홈</p>**\n",
    "[문제 링크](https://www.acmicpc.net/problem/1189)"
   ]
  },
  {
   "cell_type": "code",
   "execution_count": 87,
   "metadata": {},
   "outputs": [
    {
     "name": "stdout",
     "output_type": "stream",
     "text": [
      "11\n"
     ]
    }
   ],
   "source": [
    "from collections import deque\n",
    "\n",
    "mymap = [\n",
    "['.','.','.','.'],\n",
    "['.','T','.','.'],  #(0, 0 -> (2, 0), (2, 3) -> (0, 3)\n",
    "['.','.','.','.'],  #* 0,0 이 아니고 2, 0 부터 시작, 2, 3이 아니고 0, 3에서 끝\n",
    "]\n",
    "R, C, K = 3, 4, 6 #* 세로, 가로 거리, T는 가지 못하는 부분\n",
    "\n",
    "#TODO : 거리가 K인 가짓수 구하기\n",
    "dy = [0, 1, 0, -1]\n",
    "dx = [1, 0 , -1, 0]\n",
    "\n",
    "def dfs(y, x, distance):\n",
    "    if distance == K:\n",
    "        return \n",
    "    for p in range(4):\n",
    "        ny = y + dy[p]\n",
    "        nx = x + dx[p]\n",
    "        if 0 <= ny < R and 0 <= nx < C:\n",
    "            if mymap[ny][nx] == '.':\n",
    "                mymap[ny][nx] = 'T' \n",
    "                dfs(ny, nx, distance+1)\n",
    "                mymap[ny][nx] = '.' \n",
    "caseNum = 0            \n",
    "for j in range(R-1, -1, -1):\n",
    "    for i in range(0, C, 1):\n",
    "        if mymap[j][i] == '.':\n",
    "            mymap[j][i] = 'T' \n",
    "            dfs(j, i, 1)\n",
    "            caseNum += 1\n",
    "            mymap[j][i] == '.'\n",
    "            \n",
    "print(caseNum)\n",
    "#* 어디가 틀렸을까..."
   ]
  }
 ],
 "metadata": {
  "kernelspec": {
   "display_name": "genie",
   "language": "python",
   "name": "python3"
  },
  "language_info": {
   "codemirror_mode": {
    "name": "ipython",
    "version": 3
   },
   "file_extension": ".py",
   "mimetype": "text/x-python",
   "name": "python",
   "nbconvert_exporter": "python",
   "pygments_lexer": "ipython3",
   "version": "3.8.16"
  }
 },
 "nbformat": 4,
 "nbformat_minor": 2
}
