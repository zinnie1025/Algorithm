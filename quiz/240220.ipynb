{
 "cells": [
  {
   "cell_type": "markdown",
   "metadata": {},
   "source": [
    "## <p style=\"font-family:JetBrains Mono; font-weight:normal; letter-spacing:2px; color:#00A368; font-size:80%; text-align:left;padding: 0px;\">백준 16953 A -> B</p>\n",
    "[문제 링크](https://www.acmicpc.net/problem/16953)"
   ]
  },
  {
   "cell_type": "code",
   "execution_count": 1,
   "metadata": {},
   "outputs": [
    {
     "data": {
      "text/plain": [
       "5"
      ]
     },
     "execution_count": 1,
     "metadata": {},
     "output_type": "execute_result"
    }
   ],
   "source": [
    "#* 풀이1\n",
    "\n",
    "from collections import deque\n",
    "\n",
    "A, B = 2, 162\n",
    "\n",
    "def bfs(A, B):\n",
    "    dq = deque([(A, 1)])\n",
    "    while len(dq) != 0:\n",
    "        cur, cnt = dq.popleft()\n",
    "        if cur == B:\n",
    "            return cnt\n",
    "        elif cur > B:\n",
    "            continue\n",
    "        \n",
    "        dq.append((cur * 2, cnt + 1))\n",
    "        dq.append((cur * 10 + 1, cnt + 1))\n",
    "    return -1\n",
    "\n",
    "bfs(A, B)"
   ]
  },
  {
   "cell_type": "code",
   "execution_count": 3,
   "metadata": {},
   "outputs": [
    {
     "data": {
      "text/plain": [
       "5"
      ]
     },
     "execution_count": 3,
     "metadata": {},
     "output_type": "execute_result"
    }
   ],
   "source": [
    "#* 풀이2 (재귀를 사용하지 않은 풀이)\n",
    "def solution(A, B):\n",
    "    count = 1\n",
    "    cur = B\n",
    "    \n",
    "    while True:\n",
    "        if cur == A:\n",
    "            break\n",
    "        if cur % 2 == 0:\n",
    "            count += 1\n",
    "        elif cur % 10 == 1 and cur > 10:\n",
    "            cur = (cur - 1) // 10\n",
    "            count += 1\n",
    "        else:\n",
    "            return -1\n",
    "    return count\n",
    "    \n",
    "bfs(A, B)"
   ]
  },
  {
   "cell_type": "markdown",
   "metadata": {},
   "source": [
    "#### **<p style=\"font-family: 'JetBrains Mono'; font-weight:normal; letter-spacing:2px; color:#00A368; font-size:120%;\">백준9742 순열</p>**\n",
    "[문제 링크](https://www.acmicpc.net/problem/9742)"
   ]
  },
  {
   "cell_type": "code",
   "execution_count": 5,
   "metadata": {},
   "outputs": [],
   "source": [
    "#* 풀이1\n",
    "input = 'b', 'e', 'i', 'n'\n",
    "N = len(input)\n",
    "chk = [False] * (N + 1)\n",
    "rs = []\n",
    "cnt = 0\n",
    "printed = False\n",
    "\n",
    "def recur(num, k):\n",
    "    global cnt\n",
    "    global printed\n",
    "    \n",
    "    if printed:\n",
    "        return\n",
    "    \n",
    "    if num == N:\n",
    "        cnt += 1\n",
    "        if cnt == k:\n",
    "            print(''.join(map(str, rs)))\n",
    "            printed = True\n",
    "        return \n",
    "    \n",
    "    "
   ]
  },
  {
   "cell_type": "code",
   "execution_count": null,
   "metadata": {},
   "outputs": [],
   "source": [
    "#* 풀이2"
   ]
  },
  {
   "cell_type": "markdown",
   "metadata": {},
   "source": [
    "#### **<p style=\"font-family: 'JetBrains Mono'; font-weight:normal; letter-spacing:2px; color:#00A368; font-size:120%;\">백준 1189 컴백홈</p>**\n",
    "[문제 링크](https://www.acmicpc.net/problem/1189)"
   ]
  },
  {
   "cell_type": "code",
   "execution_count": null,
   "metadata": {},
   "outputs": [],
   "source": []
  },
  {
   "cell_type": "markdown",
   "metadata": {},
   "source": [
    "## <p style=\"font-family:JetBrains Mono; font-weight:normal; letter-spacing:2px; color:#00A368; font-size:80%; text-align:left;padding: 0px;\">백준 12101 1, 2, 3 더하기 2</p>\n",
    "[문제 링크](https://www.acmicpc.net/problem/12101)"
   ]
  },
  {
   "cell_type": "code",
   "execution_count": null,
   "metadata": {},
   "outputs": [],
   "source": []
  },
  {
   "cell_type": "markdown",
   "metadata": {},
   "source": [
    "#### **<p style=\"font-family: 'JetBrains Mono'; font-weight:normal; letter-spacing:2px; color:#1D83DC; font-size:120%;\">네트워크</p>**\n",
    "[문제 링크](https://school.programmers.co.kr/learn/courses/30/lessons/43162)"
   ]
  },
  {
   "cell_type": "code",
   "execution_count": null,
   "metadata": {},
   "outputs": [],
   "source": []
  },
  {
   "cell_type": "markdown",
   "metadata": {},
   "source": [
    "#### **<p style=\"font-family: 'JetBrains Mono'; font-weight:normal; letter-spacing:2px; color:#1D83DC; font-size:120%;\">숫자 문자열과 영단어</p>**\n",
    "[문제 링크](https://school.programmers.co.kr/learn/courses/30/lessons/81301)"
   ]
  },
  {
   "cell_type": "code",
   "execution_count": null,
   "metadata": {},
   "outputs": [],
   "source": []
  },
  {
   "cell_type": "markdown",
   "metadata": {},
   "source": [
    "## <p style=\"font-family:JetBrains Mono; font-weight:normal; letter-spacing:2px; color:#00A368; font-size:80%; text-align:left;padding: 0px;\">백준 14889 스타트와 링크</p>\n",
    "[문제 링크](https://www.acmicpc.net/problem/14889)"
   ]
  },
  {
   "cell_type": "code",
   "execution_count": null,
   "metadata": {},
   "outputs": [],
   "source": []
  },
  {
   "cell_type": "markdown",
   "metadata": {},
   "source": [
    "## <p style=\"font-family:JetBrains Mono; font-weight:normal; letter-spacing:2px; color:#00A368; font-size:80%; text-align:left;padding: 0px;\">백준 14888 연산자 끼워넣기</p>\n",
    "[문제 링크](https://www.acmicpc.net/problem/14888)"
   ]
  },
  {
   "cell_type": "markdown",
   "metadata": {},
   "source": []
  }
 ],
 "metadata": {
  "kernelspec": {
   "display_name": "genie",
   "language": "python",
   "name": "python3"
  },
  "language_info": {
   "codemirror_mode": {
    "name": "ipython",
    "version": 3
   },
   "file_extension": ".py",
   "mimetype": "text/x-python",
   "name": "python",
   "nbconvert_exporter": "python",
   "pygments_lexer": "ipython3",
   "version": "3.11.2"
  }
 },
 "nbformat": 4,
 "nbformat_minor": 2
}
