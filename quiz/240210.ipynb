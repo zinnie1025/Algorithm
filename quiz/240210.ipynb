{
 "cells": [
  {
   "cell_type": "markdown",
   "metadata": {},
   "source": [
    "## <p style=\"font-family:JetBrains Mono; font-weight:normal; letter-spacing:2px; color:#00A368; font-size:80%; text-align:left;padding: 0px;\">백준 14888 연산자 끼워넣기</p>\n",
    "[문제 링크](https://www.acmicpc.net/problem/14888)"
   ]
  },
  {
   "cell_type": "code",
   "execution_count": 17,
   "metadata": {},
   "outputs": [
    {
     "data": {
      "text/plain": [
       "{1: 2, -1: 1, 0: 1}"
      ]
     },
     "execution_count": 17,
     "metadata": {},
     "output_type": "execute_result"
    }
   ],
   "source": [
    "N = 6;\n",
    "#A1, A2, A3, A4, A5, A6 = 1, 2, 3, 4, 5, 6\n",
    "numbers = [1, 2, 3, 4, 5, 6]\n",
    "addcnt, subcnt, mulcnt, divcnt = 2, 1, 1, 1\n",
    "calDict = dict(zip([1, -1, 0], [2, 1, 1]))\n",
    "calDict\n",
    "#* 최댓값 : 54, 최솟값 : -24"
   ]
  },
  {
   "cell_type": "code",
   "execution_count": 49,
   "metadata": {},
   "outputs": [
    {
     "name": "stdout",
     "output_type": "stream",
     "text": [
      "최댓값: 33\n",
      "최솟값: -24\n"
     ]
    }
   ],
   "source": [
    "import itertools\n",
    "\n",
    "numbers = [1, 2, 3, 4, 5, 6]\n",
    "calDict = {1: 2, -1: 1, 0: 1, 2: 1}  # 덧셈 2번, 뺄셈 1번, 곱셈 1번, 나눗셈 1번\n",
    "\n",
    "def evaluate_expression(expression):\n",
    "    return eval(expression)\n",
    "\n",
    "def make_eval(numbers, op_counts, idx=0, expression='', max_result=0, min_result=0):\n",
    "    if idx == len(numbers) - 1:\n",
    "        expression += str(numbers[idx])\n",
    "        result = evaluate_expression(expression)\n",
    "        max_result = max(max_result, result)\n",
    "        min_result = min(min_result, result)\n",
    "    else:\n",
    "        for op, count in op_counts.items():\n",
    "            if count < calDict[op]:\n",
    "                new_op_counts = op_counts.copy()\n",
    "                new_op_counts[op] += 1\n",
    "                new_expression = expression + str(numbers[idx]) + ('+' if op == 1 else '-' if op == -1 else '*' if op == 0 else '//') + ' '\n",
    "                max_result, min_result = make_eval(numbers, new_op_counts, idx + 1, new_expression, max_result, min_result)\n",
    "\n",
    "    return max_result, min_result\n",
    "\n",
    "max_result, min_result = make_eval(numbers, {op: 0 for op in calDict})\n",
    "\n",
    "print(\"최댓값:\", max_result)\n",
    "print(\"최솟값:\", min_result)"
   ]
  },
  {
   "cell_type": "markdown",
   "metadata": {},
   "source": [
    "## <p style=\"font-family:JetBrains Mono; font-weight:normal; letter-spacing:2px; color:#00A368; font-size:80%; text-align:left;padding: 0px;\">백준 12101 1, 2, 3 더하기 2</p>\n",
    "[문제 링크](https://www.acmicpc.net/problem/12101)"
   ]
  },
  {
   "cell_type": "code",
   "execution_count": null,
   "metadata": {},
   "outputs": [],
   "source": []
  },
  {
   "cell_type": "markdown",
   "metadata": {},
   "source": [
    "## <p style=\"font-family:JetBrains Mono; font-weight:normal; letter-spacing:2px; color:#00A368; font-size:80%; text-align:left;padding: 0px;\">백준 14889 스타트와 링크</p>\n",
    "[문제 링크](https://www.acmicpc.net/problem/14889)"
   ]
  },
  {
   "cell_type": "code",
   "execution_count": null,
   "metadata": {},
   "outputs": [],
   "source": []
  },
  {
   "cell_type": "markdown",
   "metadata": {},
   "source": [
    "## <p style=\"font-family:JetBrains Mono; font-weight:normal; letter-spacing:2px; color:#00A368; font-size:80%; text-align:left;padding: 0px;\">백준 16638 괄호 추가하기2</p>\n",
    "[문제 링크](https://www.acmicpc.net/problem/16638)"
   ]
  },
  {
   "cell_type": "code",
   "execution_count": null,
   "metadata": {},
   "outputs": [],
   "source": []
  }
 ],
 "metadata": {
  "kernelspec": {
   "display_name": "genie",
   "language": "python",
   "name": "python3"
  },
  "language_info": {
   "codemirror_mode": {
    "name": "ipython",
    "version": 3
   },
   "file_extension": ".py",
   "mimetype": "text/x-python",
   "name": "python",
   "nbconvert_exporter": "python",
   "pygments_lexer": "ipython3",
   "version": "3.8.16"
  }
 },
 "nbformat": 4,
 "nbformat_minor": 2
}
