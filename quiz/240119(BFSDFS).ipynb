{
 "cells": [
  {
   "cell_type": "markdown",
   "metadata": {},
   "source": [
    "## <p style=\"font-family:JetBrains Mono; font-weight:normal; letter-spacing:2px; color:#00FF00; font-size:80%; text-align:left;padding: 0px;\">타겟 넘버</p>\n",
    "[문제 링크](https://school.programmers.co.kr/learn/courses/30/lessons/43165?language=python3)"
   ]
  },
  {
   "cell_type": "code",
   "execution_count": 1,
   "metadata": {},
   "outputs": [],
   "source": [
    "#TODO\n",
    "#! 주어지는 숫자의 개수는 2개 ~ 20개\n",
    "#! 각 숫자 범위는 1 <= n <= 50\n",
    "#! 타겟넘버는 1이상 1000 이하의 자연수\n",
    "#* 2중 for문을 사용하여 1에서 50사이의 범위인, n개의 숫자이면서, 방문하지 않은 지점에 대해 재귀(DFS)를 수행"
   ]
  },
  {
   "cell_type": "code",
   "execution_count": 2,
   "metadata": {},
   "outputs": [],
   "source": [
    "numbers = [4, 1, 2, 1]\n",
    "target = 4"
   ]
  },
  {
   "cell_type": "code",
   "execution_count": 1,
   "metadata": {},
   "outputs": [],
   "source": [
    "def fibonazzi(i):\n",
    "    # 종료 시점\n",
    "    if i==0:\n",
    "        return 0\n",
    "    if i==1:\n",
    "        return 1\n",
    "    \n",
    "    # 재귀 호출\n",
    "    return fibonazzi(i-1) + fibonazzi(i-2)\n"
   ]
  },
  {
   "cell_type": "code",
   "execution_count": 2,
   "metadata": {},
   "outputs": [
    {
     "data": {
      "text/plain": [
       "5"
      ]
     },
     "execution_count": 2,
     "metadata": {},
     "output_type": "execute_result"
    }
   ],
   "source": [
    "fibonazzi(5)"
   ]
  },
  {
   "cell_type": "code",
   "execution_count": 14,
   "metadata": {},
   "outputs": [],
   "source": [
    "def solution(numbers, target): \n",
    "    N = len(numbers)\n",
    "    \n",
    "    def dfs(sum, idx, sign):\n",
    "        sum += sign*numbers[idx]\n",
    "        if N-1 == idx:\n",
    "             # target && reached index to length\n",
    "            if sum==target:\n",
    "                return 1\n",
    "            return 0\n",
    "        return dfs(sum, idx+1, -1) + dfs(sum, idx+1, 1)\n",
    "\n",
    "    return dfs(0, 0, -1) + dfs(0, 0, 1)"
   ]
  },
  {
   "cell_type": "code",
   "execution_count": 15,
   "metadata": {},
   "outputs": [
    {
     "data": {
      "text/plain": [
       "2"
      ]
     },
     "execution_count": 15,
     "metadata": {},
     "output_type": "execute_result"
    }
   ],
   "source": [
    "solution(numbers, target)"
   ]
  },
  {
   "cell_type": "code",
   "execution_count": 5,
   "metadata": {},
   "outputs": [
    {
     "name": "stdout",
     "output_type": "stream",
     "text": [
      "[-4, -1, -2, -1]\n",
      "[-4, -1, -2, 1]\n",
      "[-4, -1, 2, -1]\n",
      "[-4, -1, 2, 1]\n",
      "[-4, 1, -2, -1]\n",
      "[-4, 1, -2, 1]\n",
      "[-4, 1, 2, -1]\n",
      "[-4, 1, 2, 1]\n",
      "[4, -1, -2, -1]\n",
      "[4, -1, -2, 1]\n",
      "[4, -1, 2, -1]\n",
      "[4, -1, 2, 1]\n",
      "[4, 1, -2, -1]\n",
      "[4, 1, -2, 1]\n",
      "[4, 1, 2, -1]\n",
      "[4, 1, 2, 1]\n"
     ]
    }
   ],
   "source": [
    "def solution(numbers): \n",
    "    N = len(numbers)\n",
    "    ops = [-1, 1]\n",
    "    \n",
    "    def dfs(arr, idx):\n",
    "        if N == idx:\n",
    "            print(arr)\n",
    "            return\n",
    "        \n",
    "        for op in ops:\n",
    "            arr.append(numbers[idx]*op)\n",
    "            dfs(arr, idx+1)\n",
    "            arr.pop()\n",
    "            \n",
    "    dfs([], 0)\n",
    "\n",
    "solution(numbers)"
   ]
  }
 ],
 "metadata": {
  "kernelspec": {
   "display_name": "genie",
   "language": "python",
   "name": "python3"
  },
  "language_info": {
   "codemirror_mode": {
    "name": "ipython",
    "version": 3
   },
   "file_extension": ".py",
   "mimetype": "text/x-python",
   "name": "python",
   "nbconvert_exporter": "python",
   "pygments_lexer": "ipython3",
   "version": "3.8.16"
  }
 },
 "nbformat": 4,
 "nbformat_minor": 2
}
