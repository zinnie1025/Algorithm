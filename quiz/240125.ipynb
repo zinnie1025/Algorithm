{
 "cells": [
  {
   "cell_type": "markdown",
   "metadata": {},
   "source": [
    "## <p style=\"font-family:JetBrains Mono; font-weight:normal; letter-spacing:2px; color:#00FF00; font-size:80%; text-align:left;padding: 0px;\">백준 7562 나이트의 이동</p>\n",
    "[문제 링크](https://www.acmicpc.net/problem/7562)"
   ]
  },
  {
   "cell_type": "code",
   "execution_count": 13,
   "metadata": {},
   "outputs": [
    {
     "data": {
      "text/plain": [
       "[0, 0]"
      ]
     },
     "execution_count": 13,
     "metadata": {},
     "output_type": "execute_result"
    }
   ],
   "source": [
    "from collections import deque\n",
    "deque([[0,0]]).popleft()"
   ]
  },
  {
   "cell_type": "code",
   "execution_count": 62,
   "metadata": {},
   "outputs": [
    {
     "data": {
      "text/plain": [
       "5"
      ]
     },
     "execution_count": 62,
     "metadata": {},
     "output_type": "execute_result"
    }
   ],
   "source": [
    "from collections import deque\n",
    "\n",
    "# 8 체스판 한변의 길이\n",
    "# 0 0 나이트가 현재 있는 칸\n",
    "# 7 0 나이트가 이동하려고 하는 칸\n",
    "\n",
    "# dy = [1, 2, 1, -2] #* 오른쪽, 왼쪽\n",
    "# dx = [2, 1, -2, 1] #* 아래, 위쪽\n",
    "#! 8가지 방향으로 바꾸기\n",
    "dy = [1, 2, 1, -2, -1, -2, -1, 2]\n",
    "dx = [2, 1, -2, 1, -2, -1, 2, 1]\n",
    "\n",
    "def bfs(n, start, target):\n",
    "    deq = deque([start])        \n",
    "    visited = [[0] * n for _ in range(n)]\n",
    "    \n",
    "    while len(deq) != 0:\n",
    "        y, x = deq.popleft()\n",
    "        if (y, x) == target:\n",
    "            return visited[y][x]\n",
    "        for k in range(8):\n",
    "            ny = y + dy[k]\n",
    "            nx = x + dx[k]\n",
    "            if 0 <= ny < n and 0 <= nx < n:\n",
    "                visited[ny][nx] = visited[y][x] + 1 #* 움직인 위치 = 현재 위치 + 1\n",
    "                deq.append((ny, nx))\n",
    "    \n",
    "bfs(8, (0, 0), (7, 0)) #* 5가 정답\n",
    "#bfs(100, (0, 0), (30, 50))\n",
    "        "
   ]
  },
  {
   "cell_type": "markdown",
   "metadata": {},
   "source": [
    "## <p style=\"font-family:JetBrains Mono; font-weight:normal; letter-spacing:2px; color:#00FF00; font-size:80%; text-align:left;padding: 0px;\">백준 16953 A -> B</p>\n",
    "[문제 링크](https://www.acmicpc.net/problem/16953)"
   ]
  },
  {
   "cell_type": "code",
   "execution_count": 35,
   "metadata": {},
   "outputs": [],
   "source": [
    "#* 정수 A를 B로 바꾸려고 한다.\n",
    "#* 2를 곱한다\n",
    "#* 1을 수의 가장 오른쪽에 추가한다.\n",
    "\n",
    "#TODO : A를 B로 바꾸는데 필요한 연산의 최솟값에 1을 더한값을 출력한다. 만들 수 없는 경우에는 -1을 출력한다.\n",
    "# 2 162\n",
    "# 2 4 8 81 162\n",
    "# 4 42\n",
    "# -1\n",
    "# 100 40021\n",
    "# 100 200 2001 4002 40021\n",
    "\n",
    "#* dfs \n",
    "#* 타겟넘버랑 비슷한 문제 같다.?\n",
    "#* 트리구조\n",
    "#* 연산 방식을 (2를 곱하거나 1을 수의 가장 오른쪽에 추가하거나 해서) \n",
    "#* target숫자를 만들 수 있는 경우의 수를 찾는다."
   ]
  }
 ],
 "metadata": {
  "kernelspec": {
   "display_name": "genie",
   "language": "python",
   "name": "python3"
  },
  "language_info": {
   "codemirror_mode": {
    "name": "ipython",
    "version": 3
   },
   "file_extension": ".py",
   "mimetype": "text/x-python",
   "name": "python",
   "nbconvert_exporter": "python",
   "pygments_lexer": "ipython3",
   "version": "3.8.16"
  }
 },
 "nbformat": 4,
 "nbformat_minor": 2
}
