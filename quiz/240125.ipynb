{
 "cells": [
  {
   "cell_type": "markdown",
   "metadata": {},
   "source": [
    "## <p style=\"font-family:JetBrains Mono; font-weight:normal; letter-spacing:2px; color:#00FF00; font-size:80%; text-align:left;padding: 0px;\">백준 7562 나이트의 이동</p>\n",
    "[문제 링크](https://www.acmicpc.net/problem/7562)"
   ]
  },
  {
   "cell_type": "code",
   "execution_count": 4,
   "metadata": {},
   "outputs": [],
   "source": [
    "# 유투브 강의에서 상하좌우 한칸씩 4방향으로 이동하는 것의 확장된 형태에요.  \n",
    "# 이 경우는 그림에서 보이는 것처럼 8방향으로 체스의 나이트처럼 (1,2)칸씩 이동하는 형태로 계산하면 될겁니다. \n",
    "#* 체스 나이트는 L모양으로 (수직적 또는 수평적으로 두 칸 이동한 후에 수직적 또는 수평적으로 한 칸 이동) 또는 (수직적 또는 수평적으로 한 칸 이동한 후에, 수평적 또는 수직적으로 두 칸 이동)\n",
    "#* (0, 0) -> (1, 2), (2, 1), (2, -1), (1, -2), (-1, -2), (-2, -1), (-2, 1), (-1, 2)\n",
    "'''\n",
    "3 # 테스트 케이스 개수\n",
    "\n",
    "8 # 체스판 한 변의 길이 \n",
    "0 0 # 나이트가 현재 있는 칸\n",
    "7 0 # 나이트가 이동하려고 하는 칸\n",
    "\n",
    "100 \n",
    "0 0\n",
    "30 50\n",
    "\n",
    "10\n",
    "1 1\n",
    "1 1\n",
    "'''\n",
    "\n",
    "#TODO : 나이트는 몇 번 움직이면 이 칸으로 이동할 수 있을까?"
   ]
  },
  {
   "cell_type": "code",
   "execution_count": 13,
   "metadata": {},
   "outputs": [
    {
     "data": {
      "text/plain": [
       "[0, 0]"
      ]
     },
     "execution_count": 13,
     "metadata": {},
     "output_type": "execute_result"
    }
   ],
   "source": [
    "from collections import deque\n",
    "deque([[0,0]]).popleft()"
   ]
  },
  {
   "cell_type": "code",
   "execution_count": 28,
   "metadata": {},
   "outputs": [
    {
     "data": {
      "text/plain": [
       "44"
      ]
     },
     "execution_count": 28,
     "metadata": {},
     "output_type": "execute_result"
    }
   ],
   "source": [
    "from collections import deque\n",
    "\n",
    "# 8 체스판 한변의 길이\n",
    "# 0 0 나이트가 현재 있는 칸\n",
    "# 7 0 나이트가 이동하려고 하는 칸\n",
    "\n",
    "dy = [1, 2, 1, -2] #* 오른쪽, 왼쪽\n",
    "dx = [2, 1, -2, 1] #* 아래, 위쪽\n",
    "\n",
    "def bfs(n, start, target):\n",
    "    deq = deque([start])        \n",
    "    chk = [[False] * n for _ in range(n)]\n",
    "    cnt = 0 #* 이동 횟수 \n",
    "    \n",
    "    while len(deq) != 0:\n",
    "        y, x = deq.popleft()\n",
    "        for k in range(4):\n",
    "            ny = y + dy[k]\n",
    "            nx = x + dx[k]\n",
    "            if 0 <= ny < n and 0 <= nx < n:\n",
    "                if chk[ny][nx] == False:\n",
    "                    chk[ny][nx] = True\n",
    "                    deq.append((ny, nx))\n",
    "                    cnt += 1 #* 여기가 문제인가?\n",
    "                    if (ny, nx) == target:\n",
    "                        return cnt \n",
    "                    \n",
    "    return 0\n",
    "bfs(8, (0, 0), (7, 0)) #* 5가 정답\n",
    "# bfs(100, (0, 0), (30, 50))\n",
    "        "
   ]
  },
  {
   "cell_type": "markdown",
   "metadata": {},
   "source": [
    "## <p style=\"font-family:JetBrains Mono; font-weight:normal; letter-spacing:2px; color:#00FF00; font-size:80%; text-align:left;padding: 0px;\">백준 16953 A -> B</p>\n",
    "[문제 링크](https://www.acmicpc.net/problem/16953)"
   ]
  },
  {
   "cell_type": "code",
   "execution_count": null,
   "metadata": {},
   "outputs": [],
   "source": []
  },
  {
   "cell_type": "code",
   "execution_count": null,
   "metadata": {},
   "outputs": [],
   "source": []
  },
  {
   "cell_type": "markdown",
   "metadata": {},
   "source": [
    "## <p style=\"font-family:JetBrains Mono; font-weight:normal; letter-spacing:2px; color:#00FF00; font-size:80%; text-align:left;padding: 0px;\">백준 1189 컴백홈</p>\n",
    "[문제 링크](https://www.acmicpc.net/problem/1189)"
   ]
  },
  {
   "cell_type": "code",
   "execution_count": null,
   "metadata": {},
   "outputs": [],
   "source": []
  },
  {
   "cell_type": "code",
   "execution_count": null,
   "metadata": {},
   "outputs": [],
   "source": []
  }
 ],
 "metadata": {
  "kernelspec": {
   "display_name": "genie",
   "language": "python",
   "name": "python3"
  },
  "language_info": {
   "codemirror_mode": {
    "name": "ipython",
    "version": 3
   },
   "file_extension": ".py",
   "mimetype": "text/x-python",
   "name": "python",
   "nbconvert_exporter": "python",
   "pygments_lexer": "ipython3",
   "version": "3.8.16"
  }
 },
 "nbformat": 4,
 "nbformat_minor": 2
}
