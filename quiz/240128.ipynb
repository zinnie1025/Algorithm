{
 "cells": [
  {
   "cell_type": "markdown",
   "metadata": {},
   "source": [
    "#### **<p style=\"font-family: 'JetBrains Mono'; font-weight:normal; letter-spacing:2px; color:#00A368; font-size:120%;\">백준10974 모든 순열</p>**\n",
    "[문제 링크](https://www.acmicpc.net/problem/10974)"
   ]
  },
  {
   "cell_type": "code",
   "execution_count": 10,
   "metadata": {},
   "outputs": [
    {
     "name": "stdout",
     "output_type": "stream",
     "text": [
      "1 2 3\n",
      "1 3 2\n",
      "2 1 3\n",
      "2 3 1\n",
      "3 1 2\n",
      "3 2 1\n"
     ]
    }
   ],
   "source": [
    "N = 3\n",
    "rs = []\n",
    "chk = [False] * (N + 1)\n",
    "def recur(num):\n",
    "    if num == N:\n",
    "        print(' '.join(map(str, rs)))\n",
    "        return\n",
    "    for i in range(1, N+1):\n",
    "        if chk[i] == False:\n",
    "            chk[i] = True\n",
    "            rs.append(i)\n",
    "            recur(num + 1)\n",
    "            chk[i] = False\n",
    "            rs.pop()\n",
    "recur(0)\n",
    "        "
   ]
  },
  {
   "cell_type": "markdown",
   "metadata": {},
   "source": [
    "#### **<p style=\"font-family: 'JetBrains Mono'; font-weight:normal; letter-spacing:2px; color:#00A368; font-size:120%;\">백준9742 순열</p>**\n",
    "[문제 링크](https://www.acmicpc.net/problem/9742)"
   ]
  },
  {
   "cell_type": "code",
   "execution_count": null,
   "metadata": {},
   "outputs": [],
   "source": [
    "# 235 4 = 352\n",
    "# bein 20 = nbie\n",
    "# 123456 700 = 651342\n",
    "# mnpqr 130 = No permutation\n",
    "# tuvwxyz 4000 = ywuxvzt"
   ]
  },
  {
   "cell_type": "code",
   "execution_count": 9,
   "metadata": {},
   "outputs": [
    {
     "name": "stdout",
     "output_type": "stream",
     "text": [
      "nbie\n"
     ]
    }
   ],
   "source": [
    "\n",
    "#input = 'b', 'e', 'i', 'n'\n",
    "#input = 1,2,3,4,5,6\n",
    "N = len(input) \n",
    "chk = [False] * (N + 1)\n",
    "rs = []\n",
    "cnt = 0\n",
    "def recur(num, k): \n",
    "    global cnt\n",
    "    if num == N:\n",
    "        cnt += 1\n",
    "        if cnt == k:\n",
    "            print(''.join(map(str, rs)))\n",
    "        return \n",
    "    for i in range(1, N+1):\n",
    "        if chk[i] == False:\n",
    "            chk[i] = True\n",
    "            rs.append(input[i-1])\n",
    "            recur(num+1, k)\n",
    "            chk[i] = False\n",
    "            rs.pop()\n",
    "\n",
    "    # if cnt < k: #* 해당하는 순열이 없는 경우 \n",
    "    #     print(\"No permutation\")\n",
    "\n",
    "recur(0, 20)"
   ]
  }
 ],
 "metadata": {
  "kernelspec": {
   "display_name": "genie",
   "language": "python",
   "name": "python3"
  },
  "language_info": {
   "codemirror_mode": {
    "name": "ipython",
    "version": 3
   },
   "file_extension": ".py",
   "mimetype": "text/x-python",
   "name": "python",
   "nbconvert_exporter": "python",
   "pygments_lexer": "ipython3",
   "version": "3.8.16"
  }
 },
 "nbformat": 4,
 "nbformat_minor": 2
}
