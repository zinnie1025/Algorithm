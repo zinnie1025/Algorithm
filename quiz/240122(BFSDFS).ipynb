{
 "cells": [
  {
   "cell_type": "markdown",
   "metadata": {},
   "source": [
    "## <p style=\"font-family:JetBrains Mono; font-weight:normal; letter-spacing:2px; color:#00FF00; font-size:80%; text-align:left;padding: 0px;\">백준 2178 미로탐색</p>\n",
    "[문제 링크](https://www.acmicpc.net/problem/2178)"
   ]
  },
  {
   "cell_type": "code",
   "execution_count": 12,
   "metadata": {},
   "outputs": [],
   "source": [
    "# N, M = 4, 6 #* 세로, 가로 #* 정답, 정답\n",
    "# mymap = [[1,0,1,1,1,1],\n",
    "#       [1,0,1,0,1,0],\n",
    "#       [1,0,1,0,1,1],\n",
    "#       [1,1,1,0,1,1]]\n",
    "\n",
    "#! 2번째, 3번째 케이스는 오답?! .... \n",
    "# N, M = 4, 6 #* 오답, 오답\n",
    "# mymap = [[1,1,0,1,1,0],\n",
    "#         [1,1,0,1,1,0],\n",
    "#         [1,1,1,1,1,1],\n",
    "#         [1,1,1,1,0,1]]\n",
    "\n",
    "N, M = 7, 7 #* 오답, 오답\n",
    "mymap = [[1,0,1,1,1,1,1],\n",
    "    [1,1,1,0,0,0,1],\n",
    "    [1,0,0,0,0,0,1],\n",
    "    [1,0,0,0,0,0,1],\n",
    "    [1,0,0,0,0,0,1],\n",
    "    [1,0,0,0,0,0,1],\n",
    "    [1,1,1,1,1,1,1]]"
   ]
  },
  {
   "cell_type": "code",
   "execution_count": 17,
   "metadata": {},
   "outputs": [
    {
     "data": {
      "text/plain": [
       "13"
      ]
     },
     "execution_count": 17,
     "metadata": {},
     "output_type": "execute_result"
    }
   ],
   "source": [
    "#TODO : BFS 사용\n",
    "from  collections import deque\n",
    "\n",
    "\n",
    "deq = deque()\n",
    "\n",
    "dy = [0, 1, 0, -1]\n",
    "dx = [1, 0, -1, 0]\n",
    "\n",
    "def solution2(matrix, N, M, target): \n",
    "    target = (target[0]-1, target[1]-1)\n",
    "    q = deque([[0,0,1]])\n",
    "    chk = [[False] * M for _ in range(N)]\n",
    "\n",
    "    while len(q) != 0:\n",
    "        y, x, moved = q.popleft()\n",
    "        \n",
    "        for k in range(4):\n",
    "            ny = y + dy[k]\n",
    "            nx = x + dx[k]\n",
    "            if 0 <= ny < N and 0 <= nx < M:\n",
    "                if mymap[ny][nx] == 1 and chk[ny][nx] == False:\n",
    "                    chk[ny][nx] = True\n",
    "                    q.append([ny, nx, moved+1]) \n",
    "                    if ny == target[0] and nx == target[1]:\n",
    "                        return moved+1\n",
    "    return 0\n",
    "\n",
    "solution2(mymap, N, M, (N, M))"
   ]
  }
 ],
 "metadata": {
  "kernelspec": {
   "display_name": "genie",
   "language": "python",
   "name": "python3"
  },
  "language_info": {
   "codemirror_mode": {
    "name": "ipython",
    "version": 3
   },
   "file_extension": ".py",
   "mimetype": "text/x-python",
   "name": "python",
   "nbconvert_exporter": "python",
   "pygments_lexer": "ipython3",
   "version": "3.8.16"
  }
 },
 "nbformat": 4,
 "nbformat_minor": 2
}
