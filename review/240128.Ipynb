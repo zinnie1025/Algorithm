{
 "cells": [
  {
   "cell_type": "markdown",
   "metadata": {},
   "source": [
    "#### **<p style=\"font-family: 'JetBrains Mono'; font-weight:normal; letter-spacing:2px; color:#00A368; font-size:120%;\">BFS 백준1926 그림</p>**\n",
    "[문제 링크](https://www.acmicpc.net/problem/1926)\n"
   ]
  },
  {
   "cell_type": "code",
   "execution_count": 8,
   "metadata": {},
   "outputs": [],
   "source": [
    "from collections import deque\n",
    "\n",
    "m = 6; n = 5; #* 가로, 세로\n",
    "\n",
    "dy = [0, 1, 0, -1] #* 0 1 은 오른쪽 0 -1은 왼쪽\n",
    "dx = [1, 0, -1, 0] #* 1 0 은 아래 -1 0은 위\n",
    "\n",
    "map = [\n",
    "[1, 1, 0, 1, 1],\n",
    "[0, 1, 1, 0, 0],\n",
    "[0, 0, 0, 0, 0],\n",
    "[1, 0, 1, 1, 1],\n",
    "[0, 0, 1, 1, 1],\n",
    "[0, 0, 1, 1, 1]]\n",
    "\n",
    "chk = [[False] * m for _ in range(n)]\n",
    "\n",
    "def bfs(y, x):\n",
    "    rs = 1 #* 그림 크기 저장 변수\n",
    "    dq = deque()\n",
    "    dq.append([y, x])\n",
    "    while dq:\n",
    "        ey, ex = dq.popleft()\n",
    "        for k in range(4):\n",
    "            ny = ey + dy[k]\n",
    "            nx = ex + dx[k]\n",
    "            if 0 <= ny < n and 0 <= nx < m:\n",
    "                if map[ny][nx] == 1 and chk[ny][nx] == False:\n",
    "                    chk[ny][nx] = True\n",
    "                    rs + =1\n",
    "                    q.append((ny, nx))\n",
    "    return rs\n",
    "\n",
    "maxv = 0\n",
    "cnt = 0\n",
    "for j in range(n):\n",
    "    for i in range(m):\n",
    "        if map[j][i] == 1 and chk[j][i] == False:\n",
    "            chk[j][i] = True\n",
    "            #* 전체 그림 크기 개수를 + 1\n",
    "            cnt += 1\n",
    "            maxv = max(maxv, bfs(j, i))\n",
    "            \n",
    "print(cnt)\n",
    "print(maxv)"
   ]
  },
  {
   "cell_type": "markdown",
   "metadata": {},
   "source": [
    "#### **<p style=\"font-family: 'JetBrains Mono'; font-weight:normal; letter-spacing:2px; color:#00A368; font-size:120%;\">DFS 백준2667 단지번호붙이기</p>**\n",
    "[문제 링크](https://www.acmicpc.net/problem/2667)"
   ]
  },
  {
   "cell_type": "code",
   "execution_count": 22,
   "metadata": {},
   "outputs": [
    {
     "name": "stdout",
     "output_type": "stream",
     "text": [
      "[7, 8, 9]\n",
      "3\n"
     ]
    }
   ],
   "source": [
    "N = 7;\n",
    "map = [\n",
    "    [0,1,1,0,1,0,0],\n",
    "    [0,1,1,0,1,0,1],\n",
    "    [1,1,1,0,1,0,1],\n",
    "    [0,0,0,0,1,1,1],\n",
    "    [0,1,0,0,0,0,0],\n",
    "    [0,1,1,1,1,1,0],\n",
    "    [0,1,1,1,0,0,0]]\n",
    "\n",
    "chk = [[False] * N for _ in range(N)]\n",
    "\n",
    "result = []\n",
    "each = 0\n",
    "dy = [0, 1, 0, -1]\n",
    "dx = [1, 0, -1, 0]\n",
    "\n",
    "\n",
    "def dfs(y, x):\n",
    "    global each\n",
    "    each += 1\n",
    "    for k in range(4):\n",
    "        ny = y + dy[k]\n",
    "        nx = x + dx[k]\n",
    "        if 0 <= ny < N and 0 <= nx < N:\n",
    "            if map[ny][nx] == 1 and chk[ny][nx] == False:\n",
    "                chk[ny][nx] = True\n",
    "                dfs(ny, nx)\n",
    "    return each\n",
    "\n",
    "for j in range(N):\n",
    "    for i in range(N):\n",
    "        if map[j][i] == 1 and chk[j][i] == False:\n",
    "            chk[j][i] = True\n",
    "            each = 0\n",
    "            dfs(j, i)\n",
    "            result.append(each)\n",
    "            \n",
    "print(sorted(result))\n",
    "print(len(result))"
   ]
  },
  {
   "cell_type": "markdown",
   "metadata": {},
   "source": [
    "## <p style=\"font-family:JetBrains Mono; font-weight:normal; letter-spacing:2px; color:#00FF00; font-size:80%; text-align:left;padding: 0px;\">타겟 넘버</p>\n",
    "[문제 링크](https://school.programmers.co.kr/learn/courses/30/lessons/43165?language=python3)"
   ]
  },
  {
   "cell_type": "code",
   "execution_count": 5,
   "metadata": {},
   "outputs": [],
   "source": [
    "#* 피보나치\n",
    "#* 첫째항과 둘째항은 1이고, 그 뒤 모든 항은 바로 두 항의 합인 수열 \n",
    "#* 1, 1, 2, 3, 5, 8, 13, 21, 34.....\n",
    "def fibonazzi(idx):\n",
    "    # 종료 시점\n",
    "    if idx == 0:\n",
    "        return 0 \n",
    "    if idx == 1:\n",
    "        return 1\n",
    "    # 재귀 호출\n",
    "    return fibonazzi(idx - 1) + fibonazzi(idx - 2)\n",
    "\n",
    "#* fibonazzi(5) 호출 \n",
    "#* idx가 0 또는 1이 아니므로 종료 시점이 아님\n",
    "#* 함수는 fibonazzi(4)와 fibonazzi(3)을 호출\n",
    "#* fibonazzi(4)를 계산하기 위해 fibonazzi(3)과 fibonazzi(2)를 호출\n",
    "#* fibonazzi(3)을 계산하기 위해 fibonazzi(2)와 fibonazzi(1)을 호출\n",
    "#* fibonazzi(2)와 fibonazzi(1)은 각각 1을 반환\n",
    "#* fibonazzi(3) = fibonazzi(2) + fibonazzi(1) = 2\n",
    "#* fibonazzi(4) = fibonazzi(3) + fibonazzi(2) = 2 + 1 = 3\n",
    "#* fibonazzi(5) = fibonazzi(4) + fibonazzi(3) = 3 + 2 = 5"
   ]
  },
  {
   "cell_type": "code",
   "execution_count": 7,
   "metadata": {},
   "outputs": [],
   "source": [
    "#* dfs는 트리구조의 문제에 유리하다\n",
    "#* numbers 배열의 각 원소에 대해 더하거나 빼서 특정 target 숫자를 만들 수 있는 경우의 수를 찾는다.\n",
    "#* sign은 -1 또는 1 값을 가진다."
   ]
  },
  {
   "cell_type": "code",
   "execution_count": 8,
   "metadata": {},
   "outputs": [],
   "source": [
    "def solution(numbers, target):\n",
    "    N = len(numbers)\n",
    "    \n",
    "    def dfs(sum, idx, sign):\n",
    "        sum += sign * numbers[idx]\n",
    "        if N - 1 == idx: #* 마지막 인덱스가 배열의 마지막에 도달했다면\n",
    "            if sum == target: #* 합이 target에 도달한 경우\n",
    "                return 1\n",
    "            return 0 #* 합이 target에는 도달하지 않은 경우\n",
    "        return dfs(sum, idx+1, -1) + dfs(sum, idx+1, 1)\n",
    "    return dfs(0, 0, -1) + dfs(0, 0, 1)"
   ]
  },
  {
   "cell_type": "markdown",
   "metadata": {},
   "source": [
    "## <p style=\"font-family:JetBrains Mono; font-weight:normal; letter-spacing:2px; color:#00FF00; font-size:80%; text-align:left;padding: 0px;\">백준 2178 미로탐색</p>\n",
    "[문제 링크](https://www.acmicpc.net/problem/2178)"
   ]
  },
  {
   "cell_type": "code",
   "execution_count": 56,
   "metadata": {},
   "outputs": [],
   "source": [
    "# N, M = 4, 6\n",
    "# mymap = [[1,1,0,1,1,0],\n",
    "#     [1,1,0,1,1,0],\n",
    "#     [1,1,1,1,1,1],\n",
    "#     [1,1,1,1,0,1]]\n",
    "\n",
    "N, M = 4, 6\n",
    "mymap = [[1,0,1,1,1,1],\n",
    "      [1,0,1,0,1,0],\n",
    "      [1,0,1,0,1,1],\n",
    "      [1,1,1,0,1,1]]\n",
    "\n",
    "#* bfs는 최단 경로 탐색에 유리하다."
   ]
  },
  {
   "cell_type": "code",
   "execution_count": 59,
   "metadata": {},
   "outputs": [],
   "source": [
    "from collections import deque\n",
    "\n",
    "dy = [0, 1, 0, -1]\n",
    "dx = [1, 0, -1, 0]\n",
    "\n",
    "def solution(mymap, N, M, target):\n",
    "    \n",
    "    target = N - 1, M - 1\n",
    "    dq = deque([(0, 0, 1)])\n",
    "    chk = [[False] * M for _ in range(N)]\n",
    "    \n",
    "    while len(dq) != 0:\n",
    "        y, x, moved = dq.popleft()\n",
    "       \n",
    "        for k in range(4):\n",
    "            ny = y + dy[k]\n",
    "            nx = x + dx[k]\n",
    "            if 0 <= ny < N and 0 <= nx < M:\n",
    "                if mymap[ny][nx] == 1 and chk[ny][nx] == False:\n",
    "                    chk[ny][nx] = True\n",
    "                    dq.append([ny, nx, moved + 1])\n",
    "                    if ny == target[0] and nx == target[1]:\n",
    "                        return moved + 1\n",
    "    return 0\n",
    "                    \n",
    "   "
   ]
  },
  {
   "cell_type": "code",
   "execution_count": 60,
   "metadata": {},
   "outputs": [
    {
     "data": {
      "text/plain": [
       "15"
      ]
     },
     "execution_count": 60,
     "metadata": {},
     "output_type": "execute_result"
    }
   ],
   "source": [
    "solution(mymap, N, M, (N, M))"
   ]
  },
  {
   "cell_type": "markdown",
   "metadata": {},
   "source": [
    "## <p style=\"font-family:JetBrains Mono; font-weight:normal; letter-spacing:2px; color:#00FF00; font-size:80%; text-align:left;padding: 0px;\">백준 7562 나이트의 이동</p>\n",
    "[문제 링크](https://www.acmicpc.net/problem/7562)"
   ]
  },
  {
   "cell_type": "code",
   "execution_count": 63,
   "metadata": {},
   "outputs": [
    {
     "data": {
      "text/plain": [
       "5"
      ]
     },
     "execution_count": 63,
     "metadata": {},
     "output_type": "execute_result"
    }
   ],
   "source": [
    "from collections import deque\n",
    "\n",
    "dy = [1, 2, 1, -2, -1, -2, -1, 2]\n",
    "dx = [2, 1, -2, 1, -2, -1, 2, 1]\n",
    "\n",
    "def bfs(n, start, target):\n",
    "    dq = deque([start])\n",
    "    visited = [[False] * n for _ in range(n)]\n",
    "    \n",
    "    while len(dq) != 0:\n",
    "        y, x = dq.popleft()\n",
    "        if (y, x) == target:\n",
    "            return visited[y][x]\n",
    "        for k in range(8):\n",
    "            ny = y + dy[k]\n",
    "            nx = x + dx[k]\n",
    "            if 0 <= ny < n and 0 <= nx < n:\n",
    "                visited[ny][nx] = visited[y][x] + 1\n",
    "                dq.append((ny, nx))\n",
    "bfs(8, (0, 0), (7, 0)) "
   ]
  }
 ],
 "metadata": {
  "kernelspec": {
   "display_name": "genie",
   "language": "python",
   "name": "python3"
  },
  "language_info": {
   "codemirror_mode": {
    "name": "ipython",
    "version": 3
   },
   "file_extension": ".py",
   "mimetype": "text/x-python",
   "name": "python",
   "nbconvert_exporter": "python",
   "pygments_lexer": "ipython3",
   "version": "3.8.16"
  }
 },
 "nbformat": 4,
 "nbformat_minor": 2
}
