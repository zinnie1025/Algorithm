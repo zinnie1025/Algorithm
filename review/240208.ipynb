{
 "cells": [
  {
   "cell_type": "markdown",
   "metadata": {},
   "source": [
    "#### **<p style=\"font-family: 'JetBrains Mono'; font-weight:normal; letter-spacing:2px; color:#00A368; font-size:120%;\">BFS 백준1926 그림</p>**\n",
    "[문제 링크](https://www.acmicpc.net/problem/1926)"
   ]
  },
  {
   "cell_type": "code",
   "execution_count": 11,
   "metadata": {},
   "outputs": [
    {
     "name": "stdout",
     "output_type": "stream",
     "text": [
      "4\n",
      "9\n"
     ]
    }
   ],
   "source": [
    "from collections import deque\n",
    "\n",
    "n = 6; m = 5; #* 세로, 가로\n",
    "\n",
    "dy = [0, 1, 0, -1]\n",
    "dx = [1, 0, -1, 0]\n",
    "\n",
    "map = [\n",
    "[1, 1, 0, 1, 1],\n",
    "[0, 1, 1, 0, 0],\n",
    "[0, 0, 0, 0, 0],\n",
    "[1, 0, 1, 1, 1],\n",
    "[0, 0, 1, 1, 1],\n",
    "[0, 0, 1, 1, 1]]\n",
    "\n",
    "chk = [[False] * m for _ in range(n)]\n",
    "\n",
    "def bfs(y, x):\n",
    "    rs = 1 #* 그림 크기 저장 변수\n",
    "    dq = deque()\n",
    "    dq.append([y, x]) #* 시작 지점 큐에 추가\n",
    "    while dq:\n",
    "        ey, ex = dq.popleft()\n",
    "        for k in range(4):\n",
    "            ny = ey + dy[k]\n",
    "            nx = ex + dx[k]\n",
    "            if 0 <= ny < n and 0 <= nx < m:\n",
    "                if map[ny][nx] == 1 and chk[ny][nx] == False:\n",
    "                    chk[ny][nx] = True\n",
    "                    rs += 1\n",
    "                    dq.append((ny, nx))\n",
    "    return rs\n",
    "\n",
    "maxv = 0\n",
    "cnt = 0\n",
    "for j in range(n):\n",
    "    for i in range(m):\n",
    "        if map[j][i] == 1 and chk[j][i] == False:\n",
    "            chk[j][i] = True\n",
    "            #* 전체 그림 크기 개수를 + 1\n",
    "            cnt += 1\n",
    "            maxv = max(maxv, bfs(j, i))\n",
    "print(cnt)\n",
    "print(maxv)"
   ]
  },
  {
   "cell_type": "markdown",
   "metadata": {},
   "source": [
    "#### **<p style=\"font-family: 'JetBrains Mono'; font-weight:normal; letter-spacing:2px; color:#00A368; font-size:120%;\">DFS 백준2667 단지번호붙이기</p>**\n",
    "[문제 링크](https://www.acmicpc.net/problem/2667)"
   ]
  },
  {
   "cell_type": "code",
   "execution_count": 14,
   "metadata": {},
   "outputs": [
    {
     "name": "stdout",
     "output_type": "stream",
     "text": [
      "[7, 8, 9]\n",
      "3\n"
     ]
    }
   ],
   "source": [
    "N = 7;\n",
    "map = [\n",
    "    [0,1,1,0,1,0,0],\n",
    "    [0,1,1,0,1,0,1],\n",
    "    [1,1,1,0,1,0,1],\n",
    "    [0,0,0,0,1,1,1],\n",
    "    [0,1,0,0,0,0,0],\n",
    "    [0,1,1,1,1,1,0],\n",
    "    [0,1,1,1,0,0,0]]\n",
    "\n",
    "chk = [[False] * N for _ in range(N)]\n",
    "\n",
    "result = []\n",
    "each = 0\n",
    "dy = [0, 1, 0, -1]\n",
    "dx = [1, 0, -1, 0]\n",
    "\n",
    "def dfs(y, x):\n",
    "    global each\n",
    "    each += 1\n",
    "    for k in range(4):\n",
    "        ny = y + dy[k]\n",
    "        nx = x + dx[k]\n",
    "        if 0 <= ny < N and 0 <= nx < N:\n",
    "            if map[ny][nx] == 1 and chk[ny][nx] == False:\n",
    "                chk[ny][nx] = True\n",
    "                dfs(ny, nx)\n",
    "    return each\n",
    "\n",
    "for j in range(N):\n",
    "    for i in range(N):\n",
    "        if map[j][i] == 1 and chk[j][i] == False:\n",
    "            chk[j][i] = True\n",
    "            each = 0\n",
    "            dfs(j, i)\n",
    "            result.append(each)\n",
    "print(sorted(result))\n",
    "print(len(result))"
   ]
  },
  {
   "cell_type": "markdown",
   "metadata": {},
   "source": [
    "## <p style=\"font-family:JetBrains Mono; font-weight:normal; letter-spacing:2px; color:#00A368; font-size:80%; text-align:left;padding: 0px;\">피보나치 수열</p>"
   ]
  },
  {
   "cell_type": "code",
   "execution_count": 16,
   "metadata": {},
   "outputs": [],
   "source": [
    "#* 피보나치 수열\n",
    "#* 첫째항과 둘째항은 1이고, 그 뒤 모든 항은 이전 바로 두 항의 합인 수열\n",
    "#* 1, 1, 2, 3, 5, 8, 13, 21, 34....\n",
    "def fibonazzi(idx):\n",
    "    #* 종료 시점\n",
    "    if idx == 0:\n",
    "        return 0\n",
    "    if idx == 1:\n",
    "        return 1\n",
    "    #* 재귀 호출\n",
    "    return fibonazzi(idx - 1) + fibonazzi(idx - 2)\n",
    "\n",
    "#* fibonazzi(5) 호출 \n",
    "#* idx가 0 또는 1이 아니므로 종료 시점이 아님\n",
    "#* 함수는 fibonazzi(4)와 fibonazzi(3)을 호출\n",
    "#* fibonazzi(4)를 계산하기 위해 fibonazzi(3)과 fibonazzi(2)를 호출\n",
    "#* fibonazzi(3)을 계산하기 위해 fibonazzi(2)와 fibonazzi(1)을 호출\n",
    "#* fibonazzi(2)와 fibonazzi(1)은 각각 1을 반환\n",
    "#* fibonazzi(3) = fibonazzi(2) + fibonazzi(1) = 2\n",
    "#* fibonazzi(4) = fibonazzi(3) + fibonazzi(2) = 2 + 1 = 3\n",
    "#* fibonazzi(5) = fibonazzi(4) + fibonazzi(3) = 3 + 2 = 5"
   ]
  },
  {
   "cell_type": "markdown",
   "metadata": {},
   "source": [
    "## <p style=\"font-family:JetBrains Mono; font-weight:normal; letter-spacing:2px; color:#00A368; font-size:80%; text-align:left;padding: 0px;\">타겟 넘버</p>\n",
    "[문제 링크](https://school.programmers.co.kr/learn/courses/30/lessons/43165?language=python3)"
   ]
  },
  {
   "cell_type": "code",
   "execution_count": 17,
   "metadata": {},
   "outputs": [],
   "source": [
    "def solution(numbers, target):\n",
    "    N = len(numbers)\n",
    "    \n",
    "    def dfs(sum, idx, sign):\n",
    "        sum += sign * numbers[idx]\n",
    "        if N - 1 == idx: #* 마지막 인덱스가 배열의 마지막에 도달했다면\n",
    "            if sum == target: #* 합이 target에 도달한 경우\n",
    "                return 1\n",
    "            return 0 #* 합이 target에는 도달하지 않은 경우\n",
    "        return dfs(0, idx + 1, -1) + dfs(0, idx + 1, 1)\n",
    "    return dfs(0, 0, -1) + dfs(0, 0, 1)"
   ]
  },
  {
   "cell_type": "markdown",
   "metadata": {},
   "source": [
    "## <p style=\"font-family:JetBrains Mono; font-weight:normal; letter-spacing:2px; color:#00A368; font-size:80%; text-align:left;padding: 0px;\">백준 2178 미로탐색</p>\n",
    "[문제 링크](https://www.acmicpc.net/problem/2178)"
   ]
  },
  {
   "cell_type": "code",
   "execution_count": 18,
   "metadata": {},
   "outputs": [],
   "source": [
    "# N, M = 4, 6\n",
    "# mymap = [[1,1,0,1,1,0],\n",
    "#     [1,1,0,1,1,0],\n",
    "#     [1,1,1,1,1,1],\n",
    "#     [1,1,1,1,0,1]]\n",
    "\n",
    "N, M = 4, 6\n",
    "mymap = [[1,0,1,1,1,1],\n",
    "      [1,0,1,0,1,0],\n",
    "      [1,0,1,0,1,1],\n",
    "      [1,1,1,0,1,1]]\n",
    "\n",
    "#* bfs는 최단 경로 탐색에 유리하다."
   ]
  },
  {
   "cell_type": "code",
   "execution_count": 19,
   "metadata": {},
   "outputs": [],
   "source": [
    "from collections import deque\n",
    "\n",
    "dy = [0, 1, 0, -1]\n",
    "dx = [1, 0, -1, 0]\n",
    "\n",
    "def solution(mymap, N, M, target):\n",
    "    target = N - 1, M - 1\n",
    "    dq = deque([(0, 0, 1)])\n",
    "    chk = [[False] * M for _ in range(N)]\n",
    "    \n",
    "    while len(dq) != 0:\n",
    "        y, x, moved = dq.popleft()\n",
    "        \n",
    "        for k in range(4):\n",
    "            ny = y + dy[k]\n",
    "            nx = x + dx[k]\n",
    "            if 0 <= ny < N and 0 <= nx < M:\n",
    "                if mymap[ny][nx] == 1 and chk[ny][nx] == False:\n",
    "                    chk[ny][nx] = True \n",
    "                    dq.append([ny, nx, moved + 1])   \n",
    "                    if ny == target[0] and nx == target[1]:\n",
    "                        return moved + 1\n",
    "    return 0"
   ]
  },
  {
   "cell_type": "code",
   "execution_count": 20,
   "metadata": {},
   "outputs": [
    {
     "data": {
      "text/plain": [
       "15"
      ]
     },
     "execution_count": 20,
     "metadata": {},
     "output_type": "execute_result"
    }
   ],
   "source": [
    "solution(mymap, N, M, (N, M))"
   ]
  },
  {
   "cell_type": "markdown",
   "metadata": {},
   "source": [
    "## <p style=\"font-family:JetBrains Mono; font-weight:normal; letter-spacing:2px; color:#00A368; font-size:80%; text-align:left;padding: 0px;\">백준 7562 나이트의 이동</p>\n",
    "[문제 링크](https://www.acmicpc.net/problem/7562)"
   ]
  },
  {
   "cell_type": "code",
   "execution_count": 25,
   "metadata": {},
   "outputs": [
    {
     "data": {
      "text/plain": [
       "5"
      ]
     },
     "execution_count": 25,
     "metadata": {},
     "output_type": "execute_result"
    }
   ],
   "source": [
    "from collections import deque\n",
    "\n",
    "dy = [1, 2, 1, -2, -1, -2, -1, 2]\n",
    "dx = [2, 1, -2, 1, -2, -1, 2, 1]\n",
    "\n",
    "def bfs(n, start, target):\n",
    "    dq = deque([start])\n",
    "    visited = [[False] * n for _ in range(n)]\n",
    "    while dq:\n",
    "        y, x = dq.popleft()\n",
    "        if (y, x) == target:\n",
    "            return visited[y][x]\n",
    "        for k in range(8):\n",
    "            ny = y + dy[k]\n",
    "            nx = x + dx[k]\n",
    "            if 0 <= ny < n and 0 <= nx < n:\n",
    "                visited[ny][nx] = visited[y][x] + 1\n",
    "                dq.append((ny, nx))\n",
    "                \n",
    "bfs(8, (0, 0), (7, 0))\n",
    "    "
   ]
  },
  {
   "cell_type": "markdown",
   "metadata": {},
   "source": [
    "#### **<p style=\"font-family: 'JetBrains Mono'; font-weight:normal; letter-spacing:2px; color:#00A368; font-size:120%;\">BFS 백준15649</p>**\n",
    "[문제 링크](https://www.acmicpc.net/problem/15649)"
   ]
  },
  {
   "cell_type": "code",
   "execution_count": 39,
   "metadata": {},
   "outputs": [],
   "source": [
    "N, M = 3, 2 #* M : 선택할 숫자의 개수 \n",
    "rs = [] #* 선택할 숫자를 저장할 리스트\n",
    "chk = [False] * (N+1) #* 숫자 선택 여부 리스트, 초기에는 모든 숫자가 선택되지 않았으므로 False로 초기화\n",
    "\n",
    "def recur(num):\n",
    "    if num == M: #* 원하는 개수 만큼 숫자가 선택되었다면\n",
    "        print(' '.join(map(str, rs))) #* 결과 출력\n",
    "        return\n",
    "    for i in range(1, N+1): #* 1부터 N까지의 숫자에 대해 반복\n",
    "        if chk[i] == False: #* 만약 숫자 i를 선택하지 않았다면\n",
    "            chk[i] = True #* 숫자 i가 선택했다고 표시\n",
    "            rs.append(i)\n",
    "            recur(num+1) #* 선택된 숫자의 개수를 1씩 증가 시켜 재귀적으로 함수 호출\n",
    "            chk[i] = False #* 재귀가 끝나면 해당 숫자를 선택하지 않은 상태로 변경\n",
    "            rs.pop() #* rs 리스트에서 마지막으로 추가된 숫자를 제거\n",
    "recur(0)"
   ]
  },
  {
   "cell_type": "markdown",
   "metadata": {},
   "source": [
    "#### **<p style=\"font-family: 'JetBrains Mono'; font-weight:normal; letter-spacing:2px; color:#00A368; font-size:120%;\">타겟 넘버 백트레킹</p>**"
   ]
  },
  {
   "cell_type": "code",
   "execution_count": 40,
   "metadata": {},
   "outputs": [
    {
     "name": "stdout",
     "output_type": "stream",
     "text": [
      "[-4, -1, -2, -1]\n",
      "[-4, -1, -2, 1]\n",
      "[-4, -1, 2, -1]\n",
      "[-4, -1, 2, 1]\n",
      "[-4, 1, -2, -1]\n",
      "[-4, 1, -2, 1]\n",
      "[-4, 1, 2, -1]\n",
      "[-4, 1, 2, 1]\n",
      "[4, -1, -2, -1]\n",
      "[4, -1, -2, 1]\n",
      "[4, -1, 2, -1]\n",
      "[4, -1, 2, 1]\n",
      "[4, 1, -2, -1]\n",
      "[4, 1, -2, 1]\n",
      "[4, 1, 2, -1]\n",
      "[4, 1, 2, 1]\n"
     ]
    }
   ],
   "source": [
    "numbers = [4, 1, 2, 1]\n",
    "target = 4\n",
    "def solution(numbers):\n",
    "    N = len(numbers)\n",
    "    ops = [-1, 1]\n",
    "    def dfs(arr, idx):\n",
    "        if N == idx:\n",
    "            print(arr)\n",
    "            return\n",
    "        for op in ops:\n",
    "            arr.append(numbers[idx] * op)\n",
    "            dfs(arr, idx+1)\n",
    "            arr.pop()\n",
    "    dfs([], 0)\n",
    "solution(numbers)"
   ]
  },
  {
   "cell_type": "markdown",
   "metadata": {},
   "source": [
    "## <p style=\"font-family:JetBrains Mono; font-weight:normal; letter-spacing:2px; color:#00A368; font-size:80%; text-align:left;padding: 0px;\">백준 16953 A -> B</p>\n",
    "[문제 링크](https://www.acmicpc.net/problem/16953)"
   ]
  },
  {
   "cell_type": "code",
   "execution_count": 41,
   "metadata": {},
   "outputs": [
    {
     "data": {
      "text/plain": [
       "5"
      ]
     },
     "execution_count": 41,
     "metadata": {},
     "output_type": "execute_result"
    }
   ],
   "source": [
    "from collections import deque \n",
    "\n",
    "A, B = 2, 162\n",
    "\n",
    "def bfs(A, B):\n",
    "    dq = deque([(A, 1)])\n",
    "    while len(dq) != 0:\n",
    "        cur, cnt = dq.popleft()\n",
    "        if cur == B:\n",
    "            return cnt\n",
    "        elif cur > B:\n",
    "            continue\n",
    "        dq.append((cur * 2, cnt + 1))\n",
    "        dq.append((cur * 10 + 1, cnt + 1))\n",
    "    return -1\n",
    "bfs(A, B)"
   ]
  }
 ],
 "metadata": {
  "kernelspec": {
   "display_name": "genie",
   "language": "python",
   "name": "python3"
  },
  "language_info": {
   "codemirror_mode": {
    "name": "ipython",
    "version": 3
   },
   "file_extension": ".py",
   "mimetype": "text/x-python",
   "name": "python",
   "nbconvert_exporter": "python",
   "pygments_lexer": "ipython3",
   "version": "3.8.16"
  }
 },
 "nbformat": 4,
 "nbformat_minor": 2
}
