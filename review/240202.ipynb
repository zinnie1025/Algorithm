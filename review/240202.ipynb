{
 "cells": [
  {
   "cell_type": "markdown",
   "metadata": {},
   "source": [
    "## <p style=\"font-family:JetBrains Mono; font-weight:normal; letter-spacing:2px; color:#00FF00; font-size:80%; text-align:left;padding: 0px;\">백준 16953 A -> B</p>\n",
    "[문제 링크](https://www.acmicpc.net/problem/16953)"
   ]
  },
  {
   "cell_type": "code",
   "execution_count": 2,
   "metadata": {},
   "outputs": [
    {
     "data": {
      "text/plain": [
       "5"
      ]
     },
     "execution_count": 2,
     "metadata": {},
     "output_type": "execute_result"
    }
   ],
   "source": [
    "from collections import deque \n",
    "\n",
    "A, B = 2, 162\n",
    "\n",
    "def bfs(A, B):\n",
    "    dq = deque([(A, 1)])\n",
    "    while len(dq) != 0:\n",
    "        cur, cnt = dq.popleft()\n",
    "        if cur == B:\n",
    "            return cnt\n",
    "        elif cur > B:\n",
    "            continue\n",
    "        \n",
    "        dq.append((cur * 2, cnt + 1))\n",
    "        dq.append((cur * 10 + 1, cnt + 1))\n",
    "        \n",
    "    return -1\n",
    "\n",
    "bfs(A, B)"
   ]
  },
  {
   "cell_type": "markdown",
   "metadata": {},
   "source": [
    "#### **<p style=\"font-family: 'JetBrains Mono'; font-weight:normal; letter-spacing:2px; color:#00A368; font-size:120%;\">BFS 백준1926 그림</p>**\n",
    "[문제 링크](https://www.acmicpc.net/problem/1926)\n"
   ]
  },
  {
   "cell_type": "code",
   "execution_count": 9,
   "metadata": {},
   "outputs": [
    {
     "name": "stdout",
     "output_type": "stream",
     "text": [
      "4\n",
      "9\n"
     ]
    }
   ],
   "source": [
    "from collections import deque\n",
    "\n",
    "n, m = 6, 5 #* 세로, 가로\n",
    "mymap = [\n",
    "[1, 1, 0, 1, 1],\n",
    "[0, 1, 1, 0, 0],\n",
    "[0, 0, 0, 0, 0],\n",
    "[1, 0, 1, 1, 1],\n",
    "[0, 0, 1, 1, 1],\n",
    "[0, 0, 1, 1, 1]]\n",
    "\n",
    "chk = [[False] * m for _ in range(n)]\n",
    "dy = [0, 1, 0, -1]\n",
    "dx = [1, 0, -1, 0]\n",
    "\n",
    "def bfs(y, x):\n",
    "    rs = 1 \n",
    "    dq = deque()\n",
    "    dq.append([y, x])\n",
    "    while dq:\n",
    "        ey, ex = dq.popleft()\n",
    "        for k in range(4):\n",
    "            ny = ey + dy[k]\n",
    "            nx = ex + dx[k]\n",
    "            if 0 <= ny < n and 0 <= nx < m:\n",
    "                if mymap[ny][nx] == 1 and chk[ny][nx] == False:\n",
    "                    chk[ny][nx] = True\n",
    "                    rs += 1\n",
    "                    dq.append([ny, nx])\n",
    "    return rs\n",
    "\n",
    "cnt = 0\n",
    "maxv = 0\n",
    "for j in range(n):\n",
    "    for i in range(m):\n",
    "        if mymap[j][i] == 1 and chk[j][i] == False:\n",
    "            chk[j][i] = True\n",
    "            #* 전체 그림 개수를 + 1\n",
    "            cnt += 1\n",
    "            #* BFS로 그림 크기를 구하고\n",
    "            maxv = max(maxv, bfs(j, i))\n",
    "            #* 최대값 갱신\n",
    "            \n",
    "print(cnt)\n",
    "print(maxv)"
   ]
  },
  {
   "cell_type": "markdown",
   "metadata": {},
   "source": [
    "#### **<p style=\"font-family: 'JetBrains Mono'; font-weight:normal; letter-spacing:2px; color:#00A368; font-size:120%;\">DFS 백준2667 단지번호붙이기</p>**\n",
    "[문제 링크](https://www.acmicpc.net/problem/2667)\n"
   ]
  },
  {
   "cell_type": "code",
   "execution_count": 10,
   "metadata": {},
   "outputs": [
    {
     "name": "stdout",
     "output_type": "stream",
     "text": [
      "[7, 8, 9]\n",
      "3\n"
     ]
    }
   ],
   "source": [
    "from collections import deque\n",
    "\n",
    "N = 7\n",
    "mymap = [\n",
    "[0,1,1,0,1,0,0],\n",
    "[0,1,1,0,1,0,1],\n",
    "[1,1,1,0,1,0,1],\n",
    "[0,0,0,0,1,1,1],\n",
    "[0,1,0,0,0,0,0],\n",
    "[0,1,1,1,1,1,0],\n",
    "[0,1,1,1,0,0,0]\n",
    "]\n",
    "\n",
    "chk = [[False] * N for _ in range(N)]\n",
    "result = []\n",
    "dy = [0, 1, 0, -1]\n",
    "dx = [1, 0, -1, 0]\n",
    "\n",
    "def dfs(y, x):\n",
    "    global each\n",
    "    each += 1\n",
    "    for k in range(4):\n",
    "        ny = y + dy[k]\n",
    "        nx = x + dx[k]\n",
    "        if 0 <= ny < N and 0 <= nx < N:\n",
    "            if mymap[ny][nx] == 1 and chk[ny][nx] == False:\n",
    "                chk[ny][nx] = True\n",
    "                dfs(ny, nx)\n",
    "\n",
    "cnt = 0\n",
    "for j in range(N):\n",
    "    for i in range(N):\n",
    "        if mymap[j][i] == 1 and chk[j][i] == False:\n",
    "            chk[j][i] = True\n",
    "            each = 0\n",
    "            dfs(j, i)\n",
    "            result.append(each)\n",
    "\n",
    "print(sorted(result))\n",
    "print(len(result))\n"
   ]
  },
  {
   "cell_type": "code",
   "execution_count": 11,
   "metadata": {},
   "outputs": [],
   "source": [
    "def fibonazzi(idx):\n",
    "    if idx == 0:\n",
    "        return 1\n",
    "    if idx == 1:\n",
    "        return 1\n",
    "    return fibonazzi(idx - 1) + fibonazzi(idx - 2)"
   ]
  },
  {
   "cell_type": "markdown",
   "metadata": {},
   "source": [
    "## <p style=\"font-family:JetBrains Mono; font-weight:normal; letter-spacing:2px; color:#00FF00; font-size:80%; text-align:left;padding: 0px;\">타겟 넘버</p>\n",
    "[문제 링크](https://school.programmers.co.kr/learn/courses/30/lessons/43165?language=python3)"
   ]
  },
  {
   "cell_type": "code",
   "execution_count": 13,
   "metadata": {},
   "outputs": [],
   "source": [
    "#* dfs는 트리구조의 문제에 유리하다\n",
    "#* numbers 배열의 각 원소에 대해 더하거나 빼서 특정 target 숫자를 만들 수 있는 경우의 수를 찾는다.\n",
    "#* sign은 -1 또는 1값을 가진다."
   ]
  },
  {
   "cell_type": "code",
   "execution_count": 17,
   "metadata": {},
   "outputs": [
    {
     "data": {
      "text/plain": [
       "2"
      ]
     },
     "execution_count": 17,
     "metadata": {},
     "output_type": "execute_result"
    }
   ],
   "source": [
    "def solution(numbers, target):\n",
    "    N = len(numbers)\n",
    "    def dfs(sum, idx, sign):\n",
    "        sum += numbers[idx] * sign\n",
    "        if N - 1 == idx:\n",
    "            if sum == target:\n",
    "                return 1\n",
    "            return 0\n",
    "        return dfs(sum, idx+1, -1) + dfs(sum, idx+1, 1)\n",
    "    return dfs(0, 0, -1) + dfs(0, 0, 1)\n",
    "\n",
    "numbers, target = [4, 1, 2, 1], 4\n",
    "solution(numbers, target)"
   ]
  },
  {
   "cell_type": "markdown",
   "metadata": {},
   "source": [
    "## <p style=\"font-family:JetBrains Mono; font-weight:normal; letter-spacing:2px; color:#00FF00; font-size:80%; text-align:left;padding: 0px;\">백준 2178 미로탐색</p>\n",
    "[문제 링크](https://www.acmicpc.net/problem/2178)"
   ]
  },
  {
   "cell_type": "code",
   "execution_count": 20,
   "metadata": {},
   "outputs": [],
   "source": [
    "N, M = 4, 6\n",
    "mymap = [[1,0,1,1,1,1],\n",
    "      [1,0,1,0,1,0],\n",
    "      [1,0,1,0,1,1],\n",
    "      [1,1,1,0,1,1]]\n",
    "\n",
    "#* bfs는 최단 경로 탐색에 유리하다."
   ]
  },
  {
   "cell_type": "code",
   "execution_count": 21,
   "metadata": {},
   "outputs": [],
   "source": [
    "from collections import deque\n",
    "\n",
    "dy = [0, 1, 0, -1]\n",
    "dx = [1, 0, -1, 0]\n",
    "\n",
    "def solution(mymap, N, M, target):\n",
    "    \n",
    "    target = N - 1, M - 1\n",
    "    dq = deque([(0, 0, 1)])\n",
    "    chk = [[False] * M for _ in range(N)]\n",
    "    \n",
    "    while len(dq) != 0:\n",
    "        y, x, moved = dq.popleft()\n",
    "        \n",
    "        for k in range(4):\n",
    "            ny = y + dy[k]\n",
    "            nx = x + dx[k]\n",
    "            if 0 <= ny < N and 0 <= nx < M:\n",
    "                if mymap[ny][nx] == 1 and chk[ny][nx] == False:\n",
    "                    chk[ny][nx] = True\n",
    "                    dq.append([ny, nx, moved + 1])\n",
    "                    if ny == target[0] and nx == target[1]:\n",
    "                        return moved + 1\n",
    "    return 0"
   ]
  },
  {
   "cell_type": "code",
   "execution_count": 22,
   "metadata": {},
   "outputs": [
    {
     "data": {
      "text/plain": [
       "15"
      ]
     },
     "execution_count": 22,
     "metadata": {},
     "output_type": "execute_result"
    }
   ],
   "source": [
    "solution(mymap, N, M, (N, M))"
   ]
  },
  {
   "cell_type": "markdown",
   "metadata": {},
   "source": [
    "## <p style=\"font-family:JetBrains Mono; font-weight:normal; letter-spacing:2px; color:#00FF00; font-size:80%; text-align:left;padding: 0px;\">백준 7562 나이트의 이동</p>\n",
    "[문제 링크](https://www.acmicpc.net/problem/7562)"
   ]
  },
  {
   "cell_type": "code",
   "execution_count": 23,
   "metadata": {},
   "outputs": [
    {
     "data": {
      "text/plain": [
       "5"
      ]
     },
     "execution_count": 23,
     "metadata": {},
     "output_type": "execute_result"
    }
   ],
   "source": [
    "from collections import deque\n",
    "\n",
    "#(1, 2), (2, 1), (2, -1), (1, -2), (-1, -2), (-2, -1), (-2, 1), (-1, 2)\n",
    "dy = [1, 2, 1, -2, -1, -2, -1, 2]\n",
    "dx = [2, 1, -2, 1, -2, -1, 2, -1]\n",
    "\n",
    "def bfs(n, start, target):\n",
    "    dq = deque([start])\n",
    "    visited = [[False] * n for _ in range(n)]\n",
    "    \n",
    "    while len(dq) != 0:\n",
    "        y, x = dq.popleft()\n",
    "        if (y, x) == target:\n",
    "            return visited[y][x]\n",
    "        for k in range(8):\n",
    "            ny = y + dy[k]\n",
    "            nx = x + dx[k]\n",
    "            if 0 <= ny < n and 0 <= nx < n:\n",
    "                visited[ny][nx] = visited[y][x] + 1\n",
    "                dq.append((ny, nx))\n",
    "\n",
    "bfs(8, (0, 0), (7, 0))"
   ]
  },
  {
   "cell_type": "markdown",
   "metadata": {},
   "source": [
    "#### **<p style=\"font-family: 'JetBrains Mono'; font-weight:normal; letter-spacing:2px; color:#00A368; font-size:120%;\">BFS 백준15649</p>**\n",
    "[문제 링크](https://www.acmicpc.net/problem/15649)"
   ]
  },
  {
   "cell_type": "code",
   "execution_count": 25,
   "metadata": {},
   "outputs": [
    {
     "name": "stdout",
     "output_type": "stream",
     "text": [
      "1 2\n",
      "1 3\n",
      "2 1\n",
      "2 3\n",
      "3 1\n",
      "3 2\n"
     ]
    }
   ],
   "source": [
    "N, M = 3, 2\n",
    "rs = []\n",
    "chk = [False] * (N + 1)\n",
    "\n",
    "def recur(num):\n",
    "    if num == M:\n",
    "        print(' '.join(map(str, rs)))\n",
    "        return\n",
    "    for i in range(1, N+1):\n",
    "        if chk[i] == False:\n",
    "            chk[i] = True\n",
    "            rs.append(i)\n",
    "            recur(num + 1)\n",
    "            chk[i] = False\n",
    "            rs.pop()\n",
    "recur(0)\n"
   ]
  },
  {
   "cell_type": "markdown",
   "metadata": {},
   "source": [
    "#### **<p style=\"font-family: 'JetBrains Mono'; font-weight:normal; letter-spacing:2px; color:#00A368; font-size:120%;\">타겟 넘버 백트레킹</p>**"
   ]
  },
  {
   "cell_type": "code",
   "execution_count": 29,
   "metadata": {},
   "outputs": [
    {
     "name": "stdout",
     "output_type": "stream",
     "text": [
      "[-4, -1, -2, -1]\n",
      "[-4, -1, -2, 1]\n",
      "[-4, -1, 2, -1]\n",
      "[-4, -1, 2, 1]\n",
      "[-4, 1, -2, -1]\n",
      "[-4, 1, -2, 1]\n",
      "[-4, 1, 2, -1]\n",
      "[-4, 1, 2, 1]\n",
      "[4, -1, -2, -1]\n",
      "[4, -1, -2, 1]\n",
      "[4, -1, 2, -1]\n",
      "[4, -1, 2, 1]\n",
      "[4, 1, -2, -1]\n",
      "[4, 1, -2, 1]\n",
      "[4, 1, 2, -1]\n",
      "[4, 1, 2, 1]\n"
     ]
    }
   ],
   "source": [
    "numbers = [4, 1, 2, 1]\n",
    "target = 4\n",
    "\n",
    "def solution(numbers):\n",
    "    N = len(numbers)\n",
    "    ops = [-1, 1]\n",
    "    \n",
    "    def dfs(arr, idx):\n",
    "        if N  == idx:\n",
    "            print(arr)\n",
    "            return\n",
    "        for op in ops:\n",
    "            arr.append(numbers[idx] * op)\n",
    "            dfs(arr, idx + 1)\n",
    "            arr.pop()\n",
    "    dfs([], 0)\n",
    "solution(numbers)"
   ]
  },
  {
   "cell_type": "markdown",
   "metadata": {},
   "source": [
    "#### **<p style=\"font-family: 'JetBrains Mono'; font-weight:normal; letter-spacing:2px; color:#00A368; font-size:120%;\">게임 맵 최단거리</p>**\n",
    "[문제 링크](https://school.programmers.co.kr/learn/courses/30/lessons/1844)"
   ]
  },
  {
   "cell_type": "code",
   "execution_count": 31,
   "metadata": {},
   "outputs": [
    {
     "data": {
      "text/plain": [
       "[[1, 0, 1, 1, 1],\n",
       " [1, 0, 1, 0, 1],\n",
       " [1, 0, 1, 1, 1],\n",
       " [1, 1, 1, 0, 1],\n",
       " [0, 0, 0, 0, 1]]"
      ]
     },
     "execution_count": 31,
     "metadata": {},
     "output_type": "execute_result"
    }
   ],
   "source": [
    "maps = [[1,0,1,1,1],[1,0,1,0,1],[1,0,1,1,1],[1,1,1,0,1],[0,0,0,0,1]]\n",
    "maps"
   ]
  },
  {
   "cell_type": "code",
   "execution_count": 34,
   "metadata": {},
   "outputs": [
    {
     "data": {
      "text/plain": [
       "11"
      ]
     },
     "execution_count": 34,
     "metadata": {},
     "output_type": "execute_result"
    }
   ],
   "source": [
    "from collections import deque\n",
    "\n",
    "dy = [0, 1, 0, -1]\n",
    "dx = [1, 0, -1, 0]\n",
    "\n",
    "def solution(maps):\n",
    "    n, m = len(maps), len(maps[0])\n",
    "    target = n - 1, m - 1\n",
    "    dq = deque([(0, 0, 1)])\n",
    "    chk = [[False] * m for _ in range(n)]\n",
    "    \n",
    "    while len(dq) != 0:\n",
    "        y, x, moved = dq.popleft()\n",
    "        for k in range(4):\n",
    "            ny = y + dy[k]\n",
    "            nx = x + dx[k]\n",
    "            if 0 <= ny < n and 0 <= nx < m:\n",
    "                if maps[ny][nx] == 1 and chk[ny][nx] == False:\n",
    "                    chk[ny][nx] = True\n",
    "                    dq.append([ny, nx, moved + 1])\n",
    "                    if ny == target[0] and nx == target[1]:\n",
    "                        return moved + 1     \n",
    "    return - 1\n",
    "solution(maps)"
   ]
  }
 ],
 "metadata": {
  "kernelspec": {
   "display_name": "genie",
   "language": "python",
   "name": "python3"
  },
  "language_info": {
   "codemirror_mode": {
    "name": "ipython",
    "version": 3
   },
   "file_extension": ".py",
   "mimetype": "text/x-python",
   "name": "python",
   "nbconvert_exporter": "python",
   "pygments_lexer": "ipython3",
   "version": "3.8.16"
  }
 },
 "nbformat": 4,
 "nbformat_minor": 2
}
