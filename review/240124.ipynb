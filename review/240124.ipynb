{
 "cells": [
  {
   "cell_type": "markdown",
   "metadata": {},
   "source": [
    "## <p style=\"font-family:JetBrains Mono; font-weight:normal; letter-spacing:2px; color:#00FF00; font-size:80%; text-align:left;padding: 0px;\">가장 많이 받은 선물</p>"
   ]
  },
  {
   "cell_type": "code",
   "execution_count": 19,
   "metadata": {},
   "outputs": [],
   "source": [
    "friends = [\"muzi\", \"ryan\", \"frodo\", \"neo\"]\n",
    "gifts = [\"muzi frodo\", \"muzi frodo\", \"ryan muzi\", \"ryan muzi\", \"ryan muzi\", \"frodo muzi\", \"frodo ryan\", \"neo muzi\"]"
   ]
  },
  {
   "cell_type": "code",
   "execution_count": 20,
   "metadata": {},
   "outputs": [
    {
     "data": {
      "text/plain": [
       "2"
      ]
     },
     "execution_count": 20,
     "metadata": {},
     "output_type": "execute_result"
    }
   ],
   "source": [
    "from itertools import combinations #* 조합은 순서 고려하지 않음\n",
    "\n",
    "def compare(s, r, arr, si, ri): #* 함수 인자(선물 준 사람, 선물 받은 사람, 해당 기록 매트릭스, 선물 준 사람 인덱스, 선물 받은 사람 인덱스)\n",
    "    if s > r: #* 선물 준 사람 > 선물 받은 사람\n",
    "        arr[si] += 1\n",
    "        return False\n",
    "    elif r > s: \n",
    "        arr[ri] += 1\n",
    "        return False \n",
    "    else:\n",
    "        return True\n",
    "def solution(friends, gifts):\n",
    "    n = len(friends)\n",
    "    str2idx = {name : i for i, name in enumerate(friends)} #* {'muzi': 0, 'ryan': 1, 'frodo': 2, 'neo': 3}\n",
    "    next_gift = [0] * n\n",
    "    gift_mat = [[0] * n for _ in range(n)] #* 선물 주고 받은 매트릭스\n",
    "    gift_indices = [0 for _ in range(n)] #* 선물지수\n",
    "\n",
    "\n",
    "    for val in gifts:\n",
    "        #print(val)\n",
    "        sender, receiver = val.split() #* 선물 준 사람, 선물 받은 사람\n",
    "        si, ri = str2idx[sender], str2idx[receiver] #* 선물 준 사람 인덱스, 선물 받은 사람 인덱스\n",
    "        gift_mat[si][ri] += 1 #* 선물 준 경우 +1 증가 기록\n",
    "        gift_indices[si] += 1 #* 선물 준 사람 -> 선물 지수 +1\n",
    "        gift_indices[ri] -= 1 #* 선물 받은 사람 -> 선물 지수 -1\n",
    "\n",
    "    for si, ri in combinations(range(n), 2):\n",
    "        sr = gift_mat[si][ri] #* 주고 받은 기록에서 선물 준 사람\n",
    "        rs = gift_mat[ri][si] #* 주고 받은 기록에서 선물 받은 사람\n",
    "        #* 선물 누가 더 많이 줬나 비교하기\n",
    "        if compare(sr, rs, next_gift, si, ri):\n",
    "            #* 이번엔 선물지수 비교하기\n",
    "            s = gift_indices[si]\n",
    "            r = gift_indices[ri]\n",
    "            compare(s, r, next_gift, si, ri)\n",
    "            pass \n",
    "        pass \n",
    "    return(max(next_gift))\n",
    "\n",
    "solution(friends, gifts)\n",
    "    "
   ]
  },
  {
   "cell_type": "markdown",
   "metadata": {},
   "source": [
    "------------"
   ]
  },
  {
   "cell_type": "markdown",
   "metadata": {},
   "source": [
    "## <p style=\"font-family:JetBrains Mono; font-weight:normal; letter-spacing:2px; color:#00FF00; font-size:80%; text-align:left;padding: 0px;\">피보나치 수열(재귀)</p>\n"
   ]
  },
  {
   "cell_type": "code",
   "execution_count": 27,
   "metadata": {},
   "outputs": [],
   "source": [
    "#* 피보나치\n",
    "#* 첫째항과 둘째항은 1이고, 그 뒤 모든 항은 바로 두 항의 합인 수열 \n",
    "#* 1, 1, 2, 3, 5, 8, 13, 21, 34.....\n",
    "def fibonazzi(idx):\n",
    "    # 종료 시점\n",
    "    if idx == 0:\n",
    "        return 0 \n",
    "    if idx == 1:\n",
    "        return 1\n",
    "    # 재귀 호출\n",
    "    return fibonazzi(idx - 1) + fibonazzi(idx - 2)"
   ]
  },
  {
   "cell_type": "markdown",
   "metadata": {},
   "source": [
    "## <p style=\"font-family:JetBrains Mono; font-weight:normal; letter-spacing:2px; color:#00FF00; font-size:80%; text-align:left;padding: 0px;\">타겟 넘버</p>\n",
    "[문제 링크](https://school.programmers.co.kr/learn/courses/30/lessons/43165?language=python3)"
   ]
  },
  {
   "cell_type": "code",
   "execution_count": 1,
   "metadata": {},
   "outputs": [],
   "source": [
    "numbers = [4, 1, 2, 1]\n",
    "target = 4"
   ]
  }
 ],
 "metadata": {
  "kernelspec": {
   "display_name": "genie",
   "language": "python",
   "name": "python3"
  },
  "language_info": {
   "codemirror_mode": {
    "name": "ipython",
    "version": 3
   },
   "file_extension": ".py",
   "mimetype": "text/x-python",
   "name": "python",
   "nbconvert_exporter": "python",
   "pygments_lexer": "ipython3",
   "version": "3.8.16"
  }
 },
 "nbformat": 4,
 "nbformat_minor": 2
}
