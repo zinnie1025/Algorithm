{
 "cells": [
  {
   "cell_type": "markdown",
   "metadata": {},
   "source": [
    "## **<p style=\"font-family: 'JetBrains Mono'; font-weight:normal; letter-spacing:2px; color:#00A368; font-size:70%;\">BFS 백준1926 그림</p>**\n",
    "[문제 링크](https://www.acmicpc.net/problem/1926)"
   ]
  },
  {
   "cell_type": "markdown",
   "metadata": {},
   "source": [
    "--------------------"
   ]
  },
  {
   "cell_type": "markdown",
   "metadata": {},
   "source": [
    "## **<p style=\"font-family: 'JetBrains Mono'; font-weight:normal; letter-spacing:2px; color:#00A368; font-size:70%;\">DFS 백준2667 단지번호붙이기</p>**\n",
    "[문제 링크](https://www.acmicpc.net/problem/2667)"
   ]
  },
  {
   "cell_type": "markdown",
   "metadata": {},
   "source": [
    "--------------------"
   ]
  },
  {
   "cell_type": "markdown",
   "metadata": {},
   "source": [
    "## <p style=\"font-family:JetBrains Mono; font-weight:normal; letter-spacing:2px; color:#00FF00; font-size:70%; text-align:left;padding: 0px;\">피보나치 수열(재귀)</p>"
   ]
  },
  {
   "cell_type": "code",
   "execution_count": 1,
   "metadata": {},
   "outputs": [],
   "source": [
    "#* 피보나치\n",
    "#* 첫째항과 둘째항은 1이고, 그 뒤 모든 항은 바로 두 항의 합인 수열 \n",
    "#* 1, 1, 2, 3, 5, 8, 13, 21, 34.....\n",
    "def fibonazzi(idx):\n",
    "    # 종료 시점\n",
    "    if idx == 0:\n",
    "        return 0 \n",
    "    if idx == 1:\n",
    "        return 1\n",
    "    # 재귀 호출\n",
    "    return fibonazzi(idx - 1) + fibonazzi(idx - 2)\n",
    "\n",
    "#* fibonazzi(5) 호출 \n",
    "#* idx가 0 또는 1이 아니므로 종료 시점이 아님\n",
    "#* 함수는 fibonazzi(4)와 fibonazzi(3)을 호출\n",
    "#* fibonazzi(4)를 계산하기 위해 fibonazzi(3)과 fibonazzi(2)를 호출\n",
    "#* fibonazzi(3)을 계산하기 위해 fibonazzi(2)와 fibonazzi(1)을 호출\n",
    "#* fibonazzi(2)와 fibonazzi(1)은 각각 1을 반환\n",
    "#* fibonazzi(3) = fibonazzi(2) + fibonazzi(1) = 2\n",
    "#* fibonazzi(4) = fibonazzi(3) + fibonazzi(2) = 2 + 1 = 3\n",
    "#* fibonazzi(5) = fibonazzi(4) + fibonazzi(3) = 3 + 2 = 5"
   ]
  },
  {
   "cell_type": "markdown",
   "metadata": {},
   "source": [
    "-------------------------"
   ]
  },
  {
   "cell_type": "markdown",
   "metadata": {},
   "source": [
    "## <p style=\"font-family:JetBrains Mono; font-weight:normal; letter-spacing:2px; color:#00A368; font-size:70%; text-align:left;padding: 0px;\">타겟 넘버</p>\n",
    "[문제 링크](https://school.programmers.co.kr/learn/courses/30/lessons/43165?language=python3)"
   ]
  },
  {
   "cell_type": "code",
   "execution_count": null,
   "metadata": {},
   "outputs": [],
   "source": []
  },
  {
   "cell_type": "markdown",
   "metadata": {},
   "source": [
    "--------------"
   ]
  },
  {
   "cell_type": "markdown",
   "metadata": {},
   "source": [
    "## <p style=\"font-family:JetBrains Mono; font-weight:normal; letter-spacing:2px; color:#00A368; font-size:70%; text-align:left;padding: 0px;\">백준 2178 미로탐색</p>\n",
    "[문제 링크](https://www.acmicpc.net/problem/2178)"
   ]
  },
  {
   "cell_type": "code",
   "execution_count": null,
   "metadata": {},
   "outputs": [],
   "source": []
  },
  {
   "cell_type": "markdown",
   "metadata": {},
   "source": [
    "---------------------"
   ]
  }
 ],
 "metadata": {
  "kernelspec": {
   "display_name": "genie",
   "language": "python",
   "name": "python3"
  },
  "language_info": {
   "codemirror_mode": {
    "name": "ipython",
    "version": 3
   },
   "file_extension": ".py",
   "mimetype": "text/x-python",
   "name": "python",
   "nbconvert_exporter": "python",
   "pygments_lexer": "ipython3",
   "version": "3.9.19"
  }
 },
 "nbformat": 4,
 "nbformat_minor": 2
}
