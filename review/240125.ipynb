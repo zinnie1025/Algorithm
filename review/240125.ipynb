{
 "cells": [
  {
   "cell_type": "markdown",
   "metadata": {},
   "source": [
    "## <p style=\"font-family:JetBrains Mono; font-weight:normal; letter-spacing:2px; color:#00FF00; font-size:80%; text-align:left;padding: 0px;\">가장 많이 받은 선물</p>"
   ]
  },
  {
   "cell_type": "code",
   "execution_count": 2,
   "metadata": {},
   "outputs": [],
   "source": [
    "friends = [\"muzi\", \"ryan\", \"frodo\", \"neo\"]\n",
    "gifts = [\"muzi frodo\", \"muzi frodo\", \"ryan muzi\", \"ryan muzi\", \"ryan muzi\", \"frodo muzi\", \"frodo ryan\", \"neo muzi\"]"
   ]
  },
  {
   "cell_type": "code",
   "execution_count": 3,
   "metadata": {},
   "outputs": [
    {
     "data": {
      "text/plain": [
       "2"
      ]
     },
     "execution_count": 3,
     "metadata": {},
     "output_type": "execute_result"
    }
   ],
   "source": [
    "from itertools import combinations #* 조합은 순서 고려하지 않음\n",
    "\n",
    "def compare(s, r, arr, si, ri): #* 함수 인자(선물 준 사람, 선물 받은 사람, 해당 기록 매트릭스, 선물 준 사람 인덱스, 선물 받은 사람 인덱스)\n",
    "    if s > r: #* 선물 준 사람 > 선물 받은 사람\n",
    "        arr[si] += 1\n",
    "        return False \n",
    "    elif r > s: \n",
    "        arr[ri] += 1\n",
    "        return False \n",
    "    else:\n",
    "        return True\n",
    "def solution(friends, gifts):\n",
    "    n = len(friends)\n",
    "    str2idx = {name : i for i, name in enumerate(friends)} #* {'muzi': 0, 'ryan': 1, 'frodo': 2, 'neo': 3}\n",
    "    next_gift = [0] * n\n",
    "    gift_mat = [[0] * n for _ in range(n)] #* 선물 주고 받은 매트릭스\n",
    "    gift_indices = [0 for _ in range(n)] #* 선물지수\n",
    "\n",
    "\n",
    "    for val in gifts:\n",
    "        #print(val)\n",
    "        sender, receiver = val.split() #* 선물 준 사람, 선물 받은 사람\n",
    "        si, ri = str2idx[sender], str2idx[receiver] #* 선물 준 사람 인덱스, 선물 받은 사람 인덱스\n",
    "        gift_mat[si][ri] += 1 #* 선물 준 경우 +1 증가 기록\n",
    "        gift_indices[si] += 1 #* 선물 준 사람 -> 선물 지수 +1\n",
    "        gift_indices[ri] -= 1 #* 선물 받은 사람 -> 선물 지수 -1\n",
    "\n",
    "    for si, ri in combinations(range(n), 2):\n",
    "        sr = gift_mat[si][ri] #* 주고 받은 기록에서 선물 준 사람\n",
    "        rs = gift_mat[ri][si] #* 주고 받은 기록에서 선물 받은 사람\n",
    "        #* 선물 누가 더 많이 줬나 비교하기\n",
    "        if compare(sr, rs, next_gift, si, ri):\n",
    "            #* 이번엔 선물지수 비교하기\n",
    "            s = gift_indices[si]\n",
    "            r = gift_indices[ri]\n",
    "            compare(s, r, next_gift, si, ri)\n",
    "            pass \n",
    "        pass \n",
    "    return(max(next_gift))\n",
    "\n",
    "solution(friends, gifts)\n",
    "    "
   ]
  },
  {
   "cell_type": "markdown",
   "metadata": {},
   "source": [
    "------------"
   ]
  },
  {
   "cell_type": "markdown",
   "metadata": {},
   "source": [
    "## <p style=\"font-family:JetBrains Mono; font-weight:normal; letter-spacing:2px; color:#00FF00; font-size:80%; text-align:left;padding: 0px;\">피보나치 수열(재귀)</p>\n"
   ]
  },
  {
   "cell_type": "code",
   "execution_count": 1,
   "metadata": {},
   "outputs": [],
   "source": [
    "#* 피보나치\n",
    "#* 첫째항과 둘째항은 1이고, 그 뒤 모든 항은 바로 두 항의 합인 수열 \n",
    "#* 1, 1, 2, 3, 5, 8, 13, 21, 34.....\n",
    "def fibonazzi(idx):\n",
    "    # 종료 시점\n",
    "    if idx == 0:\n",
    "        return 0 \n",
    "    if idx == 1:\n",
    "        return 1\n",
    "    # 재귀 호출\n",
    "    return fibonazzi(idx - 1) + fibonazzi(idx - 2)\n",
    "\n",
    "#* fibonazzi(5) 호출 \n",
    "#* idx가 0 또는 1이 아니므로 종료 시점이 아님\n",
    "#* 함수는 fibonazzi(4)와 fibonazzi(3)을 호출\n",
    "#* fibonazzi(4)를 계산하기 위해 fibonazzi(3)과 fibonazzi(2)를 호출\n",
    "#* fibonazzi(3)을 계산하기 위해 fibonazzi(2)와 fibonazzi(1)을 호출\n",
    "#* fibonazzi(2)와 fibonazzi(1)은 각각 1을 반환\n",
    "#* fibonazzi(3) = fibonazzi(2) + fibonazzi(1) = 2\n",
    "#* fibonazzi(4) = fibonazzi(3) + fibonazzi(2) = 2 + 1 = 3\n",
    "#* fibonazzi(5) = fibonazzi(4) + fibonazzi(3) = 3 + 2 = 5"
   ]
  },
  {
   "cell_type": "markdown",
   "metadata": {},
   "source": [
    "------------"
   ]
  },
  {
   "cell_type": "markdown",
   "metadata": {},
   "source": [
    "## <p style=\"font-family:JetBrains Mono; font-weight:normal; letter-spacing:2px; color:#00FF00; font-size:80%; text-align:left;padding: 0px;\">타겟 넘버</p>\n",
    "[문제 링크](https://school.programmers.co.kr/learn/courses/30/lessons/43165?language=python3)"
   ]
  },
  {
   "cell_type": "code",
   "execution_count": 6,
   "metadata": {},
   "outputs": [],
   "source": [
    "numbers = [4, 1, 2, 1]\n",
    "target = 4\n",
    "#TODO : dfs는 트리구조의 문제에 유리하다.\n",
    "#* numbers 배열의 각 원소에 대해 더하거나 빼서 특정 target 숫자를 만들 수 있는 경우의 수를 찾는다.\n",
    "#* sign은 -1 또는 1값을 가진다."
   ]
  },
  {
   "cell_type": "code",
   "execution_count": 11,
   "metadata": {},
   "outputs": [],
   "source": [
    "def solution(numbers, target):\n",
    "    N = len(numbers)\n",
    "    \n",
    "    def dfs(sum, idx, sign):\n",
    "        sum += sign * numbers[idx]\n",
    "        if N-1 == idx: #* 마지막 인덱스가 배열의 마지막에 도달했다면,\n",
    "            if sum == target: #* 합이 target에 도달한 경우\n",
    "                return 1\n",
    "            return 0 #* 합이 target에는 도달하지 않은 경우\n",
    "        return dfs(sum, idx+1, -1) + dfs(sum, idx+1, 1)\n",
    "    \n",
    "    return dfs(0, 0, -1) + dfs(0, 0, 1) #* 초기 호출값"
   ]
  },
  {
   "cell_type": "code",
   "execution_count": 12,
   "metadata": {},
   "outputs": [
    {
     "data": {
      "text/plain": [
       "2"
      ]
     },
     "execution_count": 12,
     "metadata": {},
     "output_type": "execute_result"
    }
   ],
   "source": [
    "solution(numbers, target)"
   ]
  },
  {
   "cell_type": "markdown",
   "metadata": {},
   "source": [
    "------------"
   ]
  },
  {
   "cell_type": "markdown",
   "metadata": {},
   "source": [
    "## <p style=\"font-family:JetBrains Mono; font-weight:normal; letter-spacing:2px; color:#00FF00; font-size:80%; text-align:left;padding: 0px;\">백준 2178 미로탐색</p>\n",
    "[문제 링크](https://www.acmicpc.net/problem/2178)"
   ]
  },
  {
   "cell_type": "code",
   "execution_count": 19,
   "metadata": {},
   "outputs": [],
   "source": [
    "N, M = 7, 7 \n",
    "mymap = [[1,0,1,1,1,1,1],\n",
    "    [1,1,1,0,0,0,1],\n",
    "    [1,0,0,0,0,0,1],\n",
    "    [1,0,0,0,0,0,1],\n",
    "    [1,0,0,0,0,0,1],\n",
    "    [1,0,0,0,0,0,1],\n",
    "    [1,1,1,1,1,1,1]]\n",
    "\n",
    "#TODO : bfs는 최단 경로 탐색에 유리하다."
   ]
  },
  {
   "cell_type": "code",
   "execution_count": 21,
   "metadata": {},
   "outputs": [
    {
     "data": {
      "text/plain": [
       "13"
      ]
     },
     "execution_count": 21,
     "metadata": {},
     "output_type": "execute_result"
    }
   ],
   "source": [
    "from collections import deque\n",
    "\n",
    "deq = deque()\n",
    "\n",
    "dy = [0, 1, 0, -1]\n",
    "dx = [1, 0, -1, 0]\n",
    "\n",
    "def solution(matrix, N, M, target):\n",
    "    target = (target[0]-1, target[1]-1) \n",
    "    q = deque([(0, 0, 1)]) #* BFS를 위한 큐를 초기화 하고, 시작 지점 (0, 0)에서 출발하여 이동 횟수를 1로 설정\n",
    "    chk = [[False] * M for _ in range(N)] #* 방문 여부 확인 위함\n",
    "    \n",
    "    while len(q) != 0:\n",
    "        y, x, moved = q.popleft()\n",
    "        \n",
    "        for k in range(4):\n",
    "            ny = y + dy[k]\n",
    "            nx = x + dx[k]    \n",
    "            if 0 <= ny < N and 0 <= nx < M:\n",
    "                if mymap[ny][nx] == 1 and chk[ny][nx] == False:\n",
    "                    chk[ny][nx] = True\n",
    "                    q.append([ny, nx, moved+1]) #* 다음 방문할 위치 추가\n",
    "                    if ny == target[0] and nx == target[1]: #* 목표 지점에 도달 하였을때\n",
    "                        return moved + 1\n",
    "    return 0\n",
    "\n",
    "solution(mymap, N, M, (N, M))\n",
    "\n",
    "                    "
   ]
  }
 ],
 "metadata": {
  "kernelspec": {
   "display_name": "genie",
   "language": "python",
   "name": "python3"
  },
  "language_info": {
   "codemirror_mode": {
    "name": "ipython",
    "version": 3
   },
   "file_extension": ".py",
   "mimetype": "text/x-python",
   "name": "python",
   "nbconvert_exporter": "python",
   "pygments_lexer": "ipython3",
   "version": "3.8.16"
  }
 },
 "nbformat": 4,
 "nbformat_minor": 2
}
