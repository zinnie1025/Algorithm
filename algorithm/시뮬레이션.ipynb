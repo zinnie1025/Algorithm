{
 "cells": [
  {
   "cell_type": "markdown",
   "metadata": {},
   "source": [
    "#### **<p style=\"font-family: 'JetBrains Mono'; font-weight:normal; letter-spacing:2px; color:#F05522; font-size:120%;\">시뮬레이션</p>**\n",
    "\n",
    "- 각 조건에 맞는 상황을 구현하는 문제\n",
    "    - 지도상에서 이동하면서 탐험하는 문제\n",
    "    - 배열안에서 이동하면서 탐험하는 문제\n",
    "- 별도의 알고리즘 없이 풀 수 있으나 구현력 중요\n",
    "- 매 시험마다 1문제 이상 무조건 출제"
   ]
  },
  {
   "cell_type": "markdown",
   "metadata": {},
   "source": [
    "#### **<p style=\"font-family: 'JetBrains Mono'; font-weight:normal; letter-spacing:2px; color:#00A368; font-size:120%;\">BFS 백준14503 로봇청소기</p>**\n",
    "[문제 링크](https://www.acmicpc.net/problem/14503)\n"
   ]
  }
 ],
 "metadata": {
  "language_info": {
   "name": "python"
  }
 },
 "nbformat": 4,
 "nbformat_minor": 2
}
