{
 "cells": [
  {
   "cell_type": "markdown",
   "metadata": {},
   "source": [
    "#### **<p style=\"font-family: 'JetBrains Mono'; font-weight:normal; letter-spacing:2px; color:#F05522; font-size:120%;\">백트래킹</p>**\n",
    "\n",
    "- 모든 경우의 수를 확인해야 할때\n",
    "    - for로는 확인 불가한 경우(깊이가 달라질 때)\n",
    "    "
   ]
  },
  {
   "cell_type": "markdown",
   "metadata": {},
   "source": [
    "#### **<p style=\"font-family: 'JetBrains Mono'; font-weight:normal; letter-spacing:2px; color:#00A368; font-size:120%;\">BFS 백준15649</p>**\n",
    "[문제 링크](https://www.acmicpc.net/problem/15649)\n"
   ]
  },
  {
   "cell_type": "markdown",
   "metadata": {},
   "source": [
    "자연수 N과 M이 주어졌을 때, 아래 조건을 만족하는 길이가 M인 수열\n",
    "   - 1부터 N까지 자연수 중에서 중복 없이 M개를 고른 수열\n",
    "   - 재귀함수에서 M개를 선택할 경우 print\n",
    "\n",
    "1. **아이디어**\n",
    "   - 1부터 N중에 하나를 선택한 뒤\n",
    "   - 다음 1부터 N까지 선택할 때 이미 선택한 값이 아닌 경우 선택\n",
    "   - M개를 선택할 경우 프린트\n",
    "\n",
    "   - 백트래킹 재귀함수 안에서, for 돌면서 숫자 선택(이때 방문 여부 확인)\n",
    "\n",
    "2. **시간 복잡도**\n",
    "   - N^N : 중복이 가능, N = 8까지 가능\n",
    "   - N! : 중복이 불가, N = 10까지 가능\n",
    "\n",
    "3. **자료구조**\n",
    "   - 선택한 값 입력 배열: `int[][]`\n",
    "   - 방문 여부: `bool[][]`\n"
   ]
  },
  {
   "cell_type": "code",
   "execution_count": null,
   "metadata": {},
   "outputs": [],
   "source": []
  }
 ],
 "metadata": {
  "kernelspec": {
   "display_name": "genie",
   "language": "python",
   "name": "python3"
  },
  "language_info": {
   "codemirror_mode": {
    "name": "ipython",
    "version": 3
   },
   "file_extension": ".py",
   "mimetype": "text/x-python",
   "name": "python",
   "nbconvert_exporter": "python",
   "pygments_lexer": "ipython3",
   "version": "3.8.16"
  }
 },
 "nbformat": 4,
 "nbformat_minor": 2
}
