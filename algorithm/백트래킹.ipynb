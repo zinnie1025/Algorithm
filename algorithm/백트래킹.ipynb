{
 "cells": [
  {
   "cell_type": "markdown",
   "metadata": {},
   "source": [
    "#### **<p style=\"font-family: 'JetBrains Mono'; font-weight:normal; letter-spacing:2px; color:#F05522; font-size:120%;\">백트래킹</p>**\n",
    "\n",
    "- 모든 경우의 수를 확인해야 할때\n",
    "    - for로는 확인 불가한 경우(깊이가 달라질 때)\n",
    "- 백트래킹 문제는 N이 작음\n",
    "- 재귀함수 사용할 때, 종료 시점 잊지 말기\n",
    "    "
   ]
  },
  {
   "cell_type": "markdown",
   "metadata": {},
   "source": [
    "#### **<p style=\"font-family: 'JetBrains Mono'; font-weight:normal; letter-spacing:2px; color:#00A368; font-size:120%;\">BFS 백준15649</p>**\n",
    "[문제 링크](https://www.acmicpc.net/problem/15649)\n"
   ]
  },
  {
   "cell_type": "markdown",
   "metadata": {},
   "source": [
    "자연수 N과 M이 주어졌을 때, 아래 조건을 만족하는 길이가 M인 수열\n",
    "   - 1부터 N까지 자연수 중에서 중복 없이 M개를 고른 수열\n",
    "   - 재귀함수에서 M개를 선택할 경우 print\n",
    "\n",
    "1. **아이디어**\n",
    "   - 1부터 N중에 하나를 선택한 뒤\n",
    "   - 다음 1부터 N까지 선택할 때 이미 선택한 값이 아닌 경우 선택\n",
    "   - M개를 선택할 경우 프린트\n",
    "\n",
    "   - 백트래킹 재귀함수 안에서, for 돌면서 숫자 선택(이때 방문 여부 확인)\n",
    "\n",
    "2. **시간 복잡도**\n",
    "   - N^N : 중복이 가능, N = 8까지 가능\n",
    "   - N! : 중복이 불가, N = 10까지 가능\n",
    "\n",
    "3. **자료구조**\n",
    "   - 선택한 값 입력 배열: `int[][]`\n",
    "   - 방문 여부: `bool[][]`\n"
   ]
  },
  {
   "cell_type": "code",
   "execution_count": 4,
   "metadata": {},
   "outputs": [
    {
     "name": "stdout",
     "output_type": "stream",
     "text": [
      "1 2\n",
      "1 3\n",
      "2 1\n",
      "2 3\n",
      "3 1\n",
      "3 2\n"
     ]
    }
   ],
   "source": [
    "\"\"\"\n",
    "1. 아이디어\n",
    "- 백트래킹 재귀함수 안에서, for 돌면서 숫자 선택(이때 방문여부 확인)\n",
    "- 재귀함수에서 M개를 선택할 경우 print\n",
    "2. 시간복잡도\n",
    "- N! > 가능\n",
    "3. 자료구조\n",
    "- 결과값 저장 int[]\n",
    "- 방문여부 체크 bool[]\n",
    "\"\"\"\n",
    "\n",
    "# import sys\n",
    "# input = sys.stdin.readline\n",
    "# N, M = map(int, input())\n",
    "N, M = 3, 2 #* N : 전체 숫자의 개수 , M : 선택할 숫자의 개수 \n",
    "rs = [] #* 선택할 숫자를 저장할 리스트\n",
    "chk = [False] * (N+1) #* 숫자 선택 여부 리스트, 초기에는 모든 숫자가 선택되지 않았으므로 False로 초기화\n",
    "\n",
    "def recur(num):\n",
    "    if num == M: #* 원하는 개수 만큼 숫자가 선택되었다면\n",
    "        print(' '.join(map(str, rs))) #* 결과 출력\n",
    "        return\n",
    "    for i in range(1, N+1): #* 1부터 N까지의 숫자에 대해 반복\n",
    "        if chk[i] == False: #* 만약 숫자 i를 선택하지 않았다면\n",
    "            chk[i] = True #* 숫자 i가 선택했다고 표시\n",
    "            rs.append(i)\n",
    "            recur(num+1) #* 선택된 숫자의 개수를 1씩 증가 시켜 재귀적으로 함수 호출\n",
    "            chk[i] = False #* 재귀가 끝나면 해당 숫자를 선택하지 않은 상태로 변경\n",
    "            rs.pop() #* rs 리스트에서 마지막으로 추가된 숫자를 제거\n",
    "recur(0)\n",
    "\n",
    "\n",
    "'''\n",
    "#* recur(0) 함수 호출\n",
    "num이 0이므로 if num == M: 은  False 이기 때문에 반복문으로 실행\n",
    "N이 3이므로 i는 1부터 3일 때 까지 반복\n",
    "chk[1] = False -> chk[1] = True -> rs.append(1) -> recur(1) -> chk[2] = False -> chk[2] = True -> rs.append(2) -> recur(2) \n",
    "-> if num == 2: True -> print(현재rs), 즉[1, 2] -> chk[2] = False(2를 선택하지 않은 상태로 변경) -> rs.pop() 마지막으로 추가된 2를 제거..... 반복\n",
    "'''"
   ]
  }
 ],
 "metadata": {
  "kernelspec": {
   "display_name": "genie",
   "language": "python",
   "name": "python3"
  },
  "language_info": {
   "codemirror_mode": {
    "name": "ipython",
    "version": 3
   },
   "file_extension": ".py",
   "mimetype": "text/x-python",
   "name": "python",
   "nbconvert_exporter": "python",
   "pygments_lexer": "ipython3",
   "version": "3.8.16"
  }
 },
 "nbformat": 4,
 "nbformat_minor": 2
}
