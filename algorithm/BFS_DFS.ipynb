{
 "cells": [
  {
   "cell_type": "markdown",
   "metadata": {},
   "source": [
    "#### **<p style=\"font-family: 'JetBrains Mono'; font-weight:normal; letter-spacing:2px; color:#F05522; font-size:120%;\">BFS/DFS</p>**\n",
    "\n",
    "- 그래프 탐색 : 어떤것들이 연속해서 이어질 때, 모두 확인하는 방법\n",
    "    - Graph : Vertex(어떤 것) + Edge(이어지는 것)\n",
    "\n",
    "- 그래프 탐색 종류 \n",
    "    - BFS : Breath-first search(너비 우선 탐색)\n",
    "    - DFS : Depth-first search(깊이 우선 탐색)\n",
    "\n",
    "- BFS 아이디어\n",
    "    - 시작점에 연결된 Vertex 찾기\n",
    "    - 찾은 Vertex를 Queue에 저장\n",
    "    - Queue의 가장 먼저 것 뽑아서 반복\n",
    "\n",
    "- BFS 시간복잡도\n",
    "    - BFS : O(V + E)\n",
    "\n",
    "- 자료구조\n",
    "    - 검색할 그래프\n",
    "    - 방문여부 확인(재방문 금지)\n",
    "    - Queue : BFS 실행\n",
    "\n",
    "- 재귀함수\n",
    "    - 자기 자신을 다시 호출하는 함수\n",
    "    - 주의할점\n",
    "        - 재귀 함수가 종료되는 시점 반드시 명시\n",
    "        - 재귀 함수의 깊이가 너무 깊어지면 Stack Overflow\n",
    "    - DFS, 백트래킹에서 주로 사용\n",
    "\n",
    "- DFS 아이디어\n",
    "    - 시작점에 연결된 Vertex 찾기\n",
    "    - 연결된 Vertex를 계속해서 찾음(끝날떄까지)\n",
    "    - 더이상 연결된 Vertex 없을 경우 다음\n",
    "\n",
    "- DFS 시간복잡도\n",
    "    - DFS : O(V + E)\n",
    "\n",
    "- 자료구조\n",
    "    - 검색할 그래프 : 2차원 배열\n",
    "    - 방문 여부 확인 : 2차원 배열(재방문 금지)"
   ]
  },
  {
   "cell_type": "markdown",
   "metadata": {},
   "source": [
    "#### **<p style=\"font-family: 'JetBrains Mono'; font-weight:normal; letter-spacing:2px; color:#00A368; font-size:120%;\">BFS 백준1926 그림</p>**\n",
    "[문제 링크](https://www.acmicpc.net/problem/1926)\n"
   ]
  },
  {
   "cell_type": "markdown",
   "metadata": {},
   "source": [
    "\n",
    "1. **아이디어**\n",
    "   - 2중 for문을 사용하여 값이 1이면서 방문하지 않은 지점에 대해 BFS를 수행\n",
    "   - BFS를 통해 그림의 개수를 1씩 증가시키고, 최대값을 갱신\n",
    "\n",
    "2. **시간 복잡도**\n",
    "   - BFS: \\(O(V + E)\\)\n",
    "\n",
    "3. **자료구조**\n",
    "   - 그래프 전체 지도: `int[][]`\n",
    "   - 방문 여부: `bool[][]`\n",
    "   - 큐 (BFS)\n"
   ]
  },
  {
   "cell_type": "code",
   "execution_count": 22,
   "metadata": {},
   "outputs": [],
   "source": [
    "from collections import deque\n",
    "import sys\n",
    "\n",
    "input = sys.stdin.readline\n",
    "m, n = map(int, input().split())\n",
    "map = [list(map(int, input().split())) for _ in range(n)]\n",
    "chk = [[False] * m for _ in range(n)] #* 가로 m, 세로 n\n",
    "\n",
    "dy = [0, 1, 0, -1] #* 0 1은 오른쪽, 0 -1은 왼쪽\n",
    "dx = [1, 0, -1, 0] #* 1 0은 아래, -1 0은 위쪽\n",
    "def bfs(y, x):\n",
    "    rs = 1 #* 그림 크기 저장 변수\n",
    "    q = deque() #* deque() : 양방향 Queue\n",
    "    q.append([y, x]) #* 시작 지점 큐에 추가\n",
    "    while q: #* 상하좌우로 이동하며 그림의 크기 증가 \n",
    "        ey, ex = q.popleft() #* 현재 위치\n",
    "        for k in range(4): #* pop된 원소에 대해 네가지 방향에서 이웃 셀 확인\n",
    "            ny = ey + dy[k] \n",
    "            nx = ex + dx[k]\n",
    "            if 0 <= ny < n and 0 <= nx < m: #* 사이즈가 벗어나면 안되므로 확인\n",
    "                if map[ny][nx] == 1 and chk[ny][nx] == False: #* 값이 1이면서, 방문하지 않았다면 \n",
    "                    chk[ny][nx] = True #* 방문 표시\n",
    "                    rs += 1\n",
    "                    q.append((ny, nx))\n",
    "    return rs  \n",
    "        \n",
    "cnt = 0\n",
    "maxv = 0 \n",
    "for j in range(n): #* 세로 부터\n",
    "    for i in range(m):\n",
    "        if map[j][i] == 1 and chk[j][i] == False: #* 값이 1이면서, 방문하지 않았다면 \n",
    "            chk[j][i] = True #* 방문 표시\n",
    "            #* 전체 그림 개수를 +1\n",
    "            cnt += 1\n",
    "            #* BFS 로 그림 크기를 구하고,\n",
    "            maxv = max(maxv, bfs(j, i))\n",
    "            #* 최대값 갱신\n",
    "\n",
    "print(cnt)\n",
    "print(maxv)"
   ]
  },
  {
   "cell_type": "markdown",
   "metadata": {},
   "source": [
    "------------------------------"
   ]
  },
  {
   "cell_type": "markdown",
   "metadata": {},
   "source": [
    "#### **<p style=\"font-family: 'JetBrains Mono'; font-weight:normal; letter-spacing:2px; color:#00A368; font-size:120%;\">DFS 백준2667 단지번호붙이기</p>**\n",
    "[문제 링크](https://www.acmicpc.net/problem/2667)"
   ]
  },
  {
   "cell_type": "markdown",
   "metadata": {},
   "source": [
    "\n",
    "1. **아이디어**\n",
    "   - 2중 for문을 사용하여 값이 1이면서 방문하지 않은 지점에 대해 재귀(DFS)를 수행\n",
    "   - DFS를 통해 찾은 값을 리스트에 저장\n",
    "   - 정렬하여 출력\n",
    "\n",
    "2. **시간 복잡도**\n",
    "   - DFS: \\(O(V + E)\\)\n",
    "\n",
    "3. **자료구조**\n",
    "   - 그래프 전체 지도: `int[][]`\n",
    "   - 방문 여부: `bool[][]`\n",
    "   - 결과값 : `int[]`"
   ]
  },
  {
   "cell_type": "code",
   "execution_count": null,
   "metadata": {},
   "outputs": [],
   "source": [
    "import sys\n",
    "\n",
    "N = int(input())\n",
    "map = [list(map(int, input().strip())) for _ in range(N)]\n",
    "chk = [[False] * N for _ in range(N)]\n",
    "result = []\n",
    "each = 0\n",
    "dy = [0, 1, 0, -1]\n",
    "dx = [1, 0, -1, 0]\n",
    "\n",
    "def dfs(y, x):\n",
    "    global each \n",
    "    each += 1\n",
    "    for k in range(4):\n",
    "        ny = y + dy[k] #* 0 1은 오른쪽 0 -1은 왼쪽\n",
    "        nx = x + dx[k] #* 1 0은 아래 -1 0은 위\n",
    "        if 0 <= ny < N and 0 <= nx < N:\n",
    "            if map[ny][nx] == 1 and chk[ny][nx] == False:\n",
    "                chk[ny][nx] = True\n",
    "                dfs(ny, nx)\n",
    "        \n",
    "for j in range(N):\n",
    "    for i in range(N):\n",
    "        if map[j][i] == 1 and chk[j][i] == False:\n",
    "            chk[j][i] = True\n",
    "            each = 0\n",
    "            dfs(j, i)\n",
    "            result.append(each)\n",
    "result.sort()\n",
    "print(len(result))"
   ]
  }
 ],
 "metadata": {
  "kernelspec": {
   "display_name": "genie",
   "language": "python",
   "name": "python3"
  },
  "language_info": {
   "codemirror_mode": {
    "name": "ipython",
    "version": 3
   },
   "file_extension": ".py",
   "mimetype": "text/x-python",
   "name": "python",
   "nbconvert_exporter": "python",
   "pygments_lexer": "ipython3",
   "version": "3.8.16"
  }
 },
 "nbformat": 4,
 "nbformat_minor": 2
}
