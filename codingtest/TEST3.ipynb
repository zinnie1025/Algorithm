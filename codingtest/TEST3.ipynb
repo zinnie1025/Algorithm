{
 "cells": [
  {
   "cell_type": "markdown",
   "metadata": {},
   "source": [
    "## <p style=\"font-family:JetBrains Mono; font-weight:normal; letter-spacing:2px; color:#F05522; font-size:80%; text-align:left;padding: 0px;\">2022 KAKAO BLIND RECRUITMENT</p>"
   ]
  },
  {
   "cell_type": "markdown",
   "metadata": {},
   "source": [
    "## <p style=\"font-family:JetBrains Mono; font-weight:normal; letter-spacing:2px; color:#F52800; font-size:70%; text-align:left;padding: 0px;\">1. 주차 요금 계산 (정답률 58%)</p>\n",
    "[문제 링크](https://school.programmers.co.kr/learn/courses/30/lessons/92341)"
   ]
  },
  {
   "cell_type": "code",
   "execution_count": null,
   "metadata": {},
   "outputs": [],
   "source": [
    "from datetime import datetime\n",
    "import math\n",
    "\n",
    "def solution(fees, records):\n",
    "    carTimeDict = {}\n",
    "    carStatDict = {}\n",
    "\n",
    "    for val in records:\n",
    "        time, carNum, move = val.split()\n",
    "        if carNum not in carTimeDict:\n",
    "            carTimeDict[carNum] = []\n",
    "            carStatDict[carNum] = []\n",
    "        carTimeDict[carNum].append(time)\n",
    "        carStatDict[carNum].append(move)\n",
    "        \n",
    "    carNumListSet = sorted(list(set(carStatDict.keys()))) #* 차량 번호 작은 자동차 부터 자동차 리스트\n",
    "    feeDict= {carNum : 0 for idx, carNum in enumerate(carNumListSet)} #* 주차 요금 기록 *{'0000': 0, '0148': 0, '5961': 0}\n",
    "\n",
    "    def calculatefee(diffminutes):\n",
    "        basicfee = fees[1]\n",
    "        if diffminutes <= fees[0]:\n",
    "            return basicfee\n",
    "        else:\n",
    "            totalfee = basicfee + math.ceil((diffminutes - fees[0]) / fees[2]) *  fees[3]\n",
    "            return totalfee\n",
    "    \n",
    "    accuTimeDict = {carNum : 0 for idx, carNum in enumerate(carNumListSet)} #* 주차 누적 시간 기록\n",
    "    for carNum in carNumListSet:\n",
    "        if carStatDict[carNum][-1] == 'IN': #* 입차기록만 존재하면 출차기록을 추가한다.\n",
    "            carTimeDict[carNum].append('23:59')\n",
    "            carStatDict[carNum].append('OUT')\n",
    "        idx = 0\n",
    "        while idx < len(carStatDict[carNum]) - 1:\n",
    "            if carStatDict[carNum][idx+1] == 'OUT':\n",
    "                time1 = datetime.strptime(carTimeDict[carNum][idx], '%H:%M')\n",
    "                time2 = datetime.strptime(carTimeDict[carNum][idx + 1], '%H:%M')\n",
    "                diffseconds = time2 - time1\n",
    "                diffminutes = diffseconds.total_seconds() / 60\n",
    "                accuTimeDict[carNum] += int(diffminutes)\n",
    "            idx += 2\n",
    "        feeDict[carNum] = calculatefee(accuTimeDict[carNum])\n",
    "    result = list(feeDict.values())\n",
    "    return result"
   ]
  },
  {
   "cell_type": "code",
   "execution_count": 1,
   "metadata": {},
   "outputs": [
    {
     "data": {
      "text/plain": [
       "(5, 34)"
      ]
     },
     "execution_count": 1,
     "metadata": {},
     "output_type": "execute_result"
    }
   ],
   "source": [
    "h, m = \"05:34\".split(':')\n",
    "h, m = int(h), int(m)\n",
    "h, m"
   ]
  },
  {
   "cell_type": "markdown",
   "metadata": {},
   "source": [
    "-----------"
   ]
  },
  {
   "cell_type": "markdown",
   "metadata": {},
   "source": [
    "## <p style=\"font-family:JetBrains Mono; font-weight:normal; letter-spacing:2px; color:#F05522; font-size:80%; text-align:left;padding: 0px;\">2021 KAKAO 채용연계형 인턴십</p>"
   ]
  },
  {
   "cell_type": "markdown",
   "metadata": {},
   "source": [
    "## <p style=\"font-family:JetBrains Mono; font-weight:normal; letter-spacing:2px; color:#F52800; font-size:70%; text-align:left;padding: 0px;\">2. 숫자 문자열과 영단어 (정답률 70%)</p>\n",
    "[문제 링크](https://school.programmers.co.kr/learn/courses/30/lessons/81301)"
   ]
  },
  {
   "cell_type": "code",
   "execution_count": null,
   "metadata": {},
   "outputs": [],
   "source": [
    "import re\n",
    "def solution(s):\n",
    "    num_to_eng_dict = dict(zip(['zero', 'one', 'two', 'three', 'four', 'five', 'six', 'seven', 'eight', 'nine'], ['0', '1', '2', '3', '4', '5', '6', '7', '8', '9']))\n",
    "    pattern = '|'.join(map(re.escape, num_to_eng_dict.keys()))\n",
    "    result = re.sub(f'({pattern})', lambda m:num_to_eng_dict[m.group()], s) \n",
    "    return int(result)"
   ]
  },
  {
   "cell_type": "code",
   "execution_count": 7,
   "metadata": {},
   "outputs": [
    {
     "name": "stdout",
     "output_type": "stream",
     "text": [
      "True\n"
     ]
    }
   ],
   "source": [
    "d = dict(zip(['zero', 'one', 'two', 'three', 'four', 'five', 'six', 'seven', 'eight', 'nine'], ['0', '1', '2', '3', '4', '5', '6', '7', '8', '9']))\n",
    "def solution(s):\n",
    "    result = \"\"\n",
    "    i = 0\n",
    "    while i < len(s):\n",
    "        if s[i].isdigit():\n",
    "            result += s[i]\n",
    "            i += 1\n",
    "        else:\n",
    "            for j in range(3, 6):\n",
    "                value = d.get(s[i:i+j])\n",
    "                if value is not None:\n",
    "                    result += value\n",
    "                    i += j\n",
    "    return int(result)\n",
    "\n",
    "print(solution(\"one4seveneight\") == 1478)"
   ]
  },
  {
   "cell_type": "markdown",
   "metadata": {},
   "source": [
    "-----------"
   ]
  },
  {
   "cell_type": "markdown",
   "metadata": {},
   "source": [
    "## <p style=\"font-family:JetBrains Mono; font-weight:normal; letter-spacing:2px; color:#E13D21; font-size:80%; text-align:left;padding: 0px;\">단어 변환(BFS/DFS)</p>\n",
    "[문제 링크](https://school.programmers.co.kr/learn/courses/30/lessons/43163)"
   ]
  },
  {
   "cell_type": "code",
   "execution_count": null,
   "metadata": {},
   "outputs": [],
   "source": [
    "from collections import deque\n",
    "\n",
    "def solution(begin, target, words):\n",
    "    if target not in words:\n",
    "        return 0\n",
    "    dq = deque([(begin, 0)]) #* 시작 단어와 변한 횟수\n",
    "    while dq:\n",
    "        cur_word, stage = dq.popleft()\n",
    "        if cur_word == target:\n",
    "            return stage\n",
    "        for word in words:\n",
    "            if sum(c1 != c2 for c1, c2 in zip(cur_word, word)) == 1: #* 한 글자만 다른 경우\n",
    "                dq.append((word, stage + 1)) #* 다음 단계 단어와 변환 횟수 큐에 추가\n",
    "                words.remove(word) #* 이미 방문한 단어는 제거\n",
    "    return 0"
   ]
  },
  {
   "cell_type": "markdown",
   "metadata": {},
   "source": [
    "-----------"
   ]
  }
 ],
 "metadata": {
  "kernelspec": {
   "display_name": "genie",
   "language": "python",
   "name": "python3"
  },
  "language_info": {
   "codemirror_mode": {
    "name": "ipython",
    "version": 3
   },
   "file_extension": ".py",
   "mimetype": "text/x-python",
   "name": "python",
   "nbconvert_exporter": "python",
   "pygments_lexer": "ipython3",
   "version": "3.8.16"
  }
 },
 "nbformat": 4,
 "nbformat_minor": 2
}
