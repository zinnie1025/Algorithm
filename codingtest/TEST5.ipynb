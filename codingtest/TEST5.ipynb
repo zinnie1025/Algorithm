{
 "cells": [
  {
   "cell_type": "markdown",
   "metadata": {},
   "source": [
    "<div style=\"font-family: JetBrains Mono; text-align: left;\">\n",
    "    <p style=\"font-weight: normal; letter-spacing: 2px; color: #FFD700; font-size: 120%; padding: 0px;\">\n",
    "        2024 KAKAO BLIND RECRUITMENT\n",
    "    </p>\n",
    "    <p style=\"font-weight: normal; letter-spacing: 2px; color: #F4A460; font-size: 100%; padding: 0px;\">\n",
    "        1. K진수에서 소수 개수 구하기 (정답률 61%)\n",
    "    </p>\n",
    "    <a href=\"https://school.programmers.co.kr/learn/courses/30/lessons/92335\" style=\"font-size: 80%; color: #D2691E;;\">문제 링크</a>\n",
    "</div>\n",
    "\n"
   ]
  },
  {
   "cell_type": "code",
   "execution_count": null,
   "metadata": {},
   "outputs": [],
   "source": []
  },
  {
   "cell_type": "markdown",
   "metadata": {},
   "source": [
    "------------------"
   ]
  },
  {
   "cell_type": "markdown",
   "metadata": {},
   "source": [
    "<div style=\"font-family: JetBrains Mono; text-align: left;\">\n",
    "    <p style=\"font-weight: normal; letter-spacing: 2px; color: #FFD700; font-size: 120%; padding: 0px;\">\n",
    "        [PCCE 기출문제] 9번  \n",
    "    </p>\n",
    "    <p style=\"font-weight: normal; letter-spacing: 2px; color: #F4A460; font-size: 100%; padding: 0px;\">\n",
    "        2. 이웃한 칸 (정답률 56%)\n",
    "    </p>\n",
    "    <a href=\"https://school.programmers.co.kr/learn/courses/30/lessons/250125\" style=\"font-size: 80%; color: #D2691E;;\">문제 링크</a>\n",
    "</div>"
   ]
  },
  {
   "cell_type": "code",
   "execution_count": null,
   "metadata": {},
   "outputs": [],
   "source": []
  },
  {
   "cell_type": "markdown",
   "metadata": {},
   "source": [
    "-----------"
   ]
  },
  {
   "cell_type": "markdown",
   "metadata": {},
   "source": [
    "<div style=\"font-family: JetBrains Mono; text-align: left;\">\n",
    "    <p style=\"font-weight: normal; letter-spacing: 2px; color: #FFD700; font-size: 120%; padding: 0px;\">\n",
    "        2023 KAKAO BLIND RECRUITMENT  \n",
    "    </p>\n",
    "    <p style=\"font-weight: normal; letter-spacing: 2px; color: #F4A460; font-size: 100%; padding: 0px;\">\n",
    "        3. 개인정보 수집 유효기간 (정답률 45%)\n",
    "    </p>\n",
    "    <a href=\"https://school.programmers.co.kr/learn/courses/30/lessons/150370\" style=\"font-size: 80%; color: #D2691E;;\">문제 링크</a>\n",
    "</div>"
   ]
  },
  {
   "cell_type": "code",
   "execution_count": null,
   "metadata": {},
   "outputs": [],
   "source": []
  },
  {
   "cell_type": "markdown",
   "metadata": {},
   "source": [
    "---------------------"
   ]
  }
 ],
 "metadata": {
  "kernelspec": {
   "display_name": "genie",
   "language": "python",
   "name": "python3"
  },
  "language_info": {
   "codemirror_mode": {
    "name": "ipython",
    "version": 3
   },
   "file_extension": ".py",
   "mimetype": "text/x-python",
   "name": "python",
   "nbconvert_exporter": "python",
   "pygments_lexer": "ipython3",
   "version": "3.9.19"
  }
 },
 "nbformat": 4,
 "nbformat_minor": 2
}
