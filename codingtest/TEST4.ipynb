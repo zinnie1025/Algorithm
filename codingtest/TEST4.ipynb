{
 "cells": [
  {
   "cell_type": "markdown",
   "metadata": {},
   "source": [
    "## <p style=\"font-family:JetBrains Mono; font-weight:normal; letter-spacing:2px; color:#F05522; font-size:80%; text-align:left;padding: 0px;\">2021 KAKAO BLIND RECRUITMENT</p>"
   ]
  },
  {
   "cell_type": "markdown",
   "metadata": {},
   "source": [
    "## <p style=\"font-family:JetBrains Mono; font-weight:normal; letter-spacing:2px; color:#F52800; font-size:80%; text-align:left;padding: 0px;\">신규 아이디 추천 (정답률 50%)</p>\n",
    "[문제 링크](https://school.programmers.co.kr/learn/courses/30/lessons/72410)"
   ]
  },
  {
   "cell_type": "code",
   "execution_count": 4,
   "metadata": {},
   "outputs": [],
   "source": [
    "#TODO : 카카오 아이디 규칙\n",
    "#* 아이디 길이 3자 이상 15자 이하\n",
    "#* 알파벳 소문자, 숫자, 빼기(-), 밑줄(_), 마침표(.)문자만 사용 가능\n",
    "#* 단, 마침표(.)는 처음과 끝에 사용할 수 없으며 또한 연속으로 사용 불가\n",
    "#! 네오 7단계 처리 과정으로 검사해서 규칙에 맞는지 검사하고 맞지 않으면 신규 아이디 추천"
   ]
  },
  {
   "cell_type": "code",
   "execution_count": 45,
   "metadata": {},
   "outputs": [],
   "source": [
    "from typing import List\n",
    "\n",
    "new_id = [\"...!@BaT#*..y.abcdefghijklm\", \"z-+.^.\", \"=.=\", \"123_.def\", \"abcdefghijklmn.p\"]\n",
    "result = [\"bat.y.abcdefghi\", \"z--\",  \"aaa\", \t\"123_.def\", \"abcdefghijklmn\"]"
   ]
  },
  {
   "cell_type": "code",
   "execution_count": 56,
   "metadata": {},
   "outputs": [],
   "source": [
    "import re\n",
    "\n",
    "def solution(new_id):\n",
    "    #* 대문자를 소문자로 변환\n",
    "    new_id = new_id.lower()\n",
    "    \n",
    "    #* 알파벳 소문자, 숫자, 빼기(-), 밑줄(_), 마침표(.)를 제외한 모든 문자를 제거\n",
    "    new_id = re.sub('[^a-z0-9-_.]', '', new_id)\n",
    "    \n",
    "    #* 마침표(.)가 2번 이상 연속된 부분을 하나의 마침표(.)로 치환\n",
    "    new_id = re.sub(r'\\.{2,}', '.', new_id)\n",
    "    \n",
    "    #* 마침표가 처음이나 끝에 위치한다면 제거\n",
    "    if new_id.startswith('.'):\n",
    "        new_id = new_id[1:]\n",
    "    if new_id.endswith('.'):\n",
    "        new_id = new_id[:-1]\n",
    "    \n",
    "    #* new_id가 빈 문자열이라면, 'a' 대입\n",
    "    if len(new_id) == 0:\n",
    "        new_id = 'a'\n",
    "        \n",
    "    #* new_id의 길이가 16자 이상이면, new_id의 첫 15개의 문자를 제외한 나머지 문자들을 모두 제거\n",
    "    if len(new_id) >= 16:\n",
    "        new_id = new_id[:15]\n",
    "        if new_id.endswith('.'):\n",
    "            new_id = new_id[:-1]\n",
    "            \n",
    "    #* new_id의 길이가 2자 이하라면, new_id의 마지막 문자를 new_id의 길이가 3이 될 때까지 반복해서 끝에 붙이기\n",
    "    elif len(new_id) <= 2:\n",
    "        tmp = new_id[-1]\n",
    "        while True:\n",
    "            if len(new_id) == 3:\n",
    "                break\n",
    "            else:\n",
    "                new_id += tmp\n",
    "            \n",
    "    return new_id  \n"
   ]
  },
  {
   "cell_type": "code",
   "execution_count": 57,
   "metadata": {},
   "outputs": [
    {
     "name": "stdout",
     "output_type": "stream",
     "text": [
      "bat.y.abcdefghi\n",
      "z--\n",
      "aaa\n",
      "123_.def\n",
      "abcdefghijklmn\n"
     ]
    }
   ],
   "source": [
    "for id in new_id: \n",
    "    print(solution(id))"
   ]
  },
  {
   "cell_type": "markdown",
   "metadata": {},
   "source": [
    "-----------"
   ]
  },
  {
   "cell_type": "markdown",
   "metadata": {},
   "source": [
    "## <p style=\"font-family:JetBrains Mono; font-weight:normal; letter-spacing:2px; color:#F05522; font-size:80%; text-align:left;padding: 0px;\">2022 KAKAO TECH INTERNSHIP</p>"
   ]
  },
  {
   "cell_type": "markdown",
   "metadata": {},
   "source": [
    "## <p style=\"font-family:JetBrains Mono; font-weight:normal; letter-spacing:2px; color:#E13D21; font-size:70%; text-align:left;padding: 0px;\">성격 유형 검사하기 (정답률 50%)</p>\n",
    "[문제 링크](https://school.programmers.co.kr/learn/courses/30/lessons/118666)"
   ]
  },
  {
   "cell_type": "code",
   "execution_count": null,
   "metadata": {},
   "outputs": [],
   "source": [
    "def solution(survey, choices):\n",
    "    \n",
    "    result = ''\n",
    "    points = [3, 2, 1, 0, 1, 2, 3]\n",
    "    caseList = ['R', 'T', 'C', 'F', 'J', 'M', 'A', 'N']\n",
    "    caseDict = dict(zip(caseList, [0 for _ in range(len(caseList))]))\n",
    "    for idx in range(len(survey)):\n",
    "        first, second = survey[idx][0], survey[idx][1]\n",
    "        selectPoint = choices[idx]\n",
    "        if selectPoint > 4: #* 동의 관련 선택지\n",
    "            caseDict[second] += points[selectPoint - 1]\n",
    "        elif 0 < selectPoint < 4: #* 비동의 관련 선택지\n",
    "            caseDict[first] += points[selectPoint - 1] \n",
    "    \n",
    "    max_keys = []\n",
    "    for i in range(0, len(caseDict), 2):\n",
    "        pair = list(caseDict.items())[i:i+2]\n",
    "        max_key = max(pair, key=lambda x: x[1])[0]\n",
    "        max_keys.append(max_key)\n",
    "    return ''.join(max_keys)"
   ]
  },
  {
   "cell_type": "markdown",
   "metadata": {},
   "source": [
    "-----------"
   ]
  },
  {
   "cell_type": "markdown",
   "metadata": {},
   "source": [
    "## <p style=\"font-family:JetBrains Mono; font-weight:normal; letter-spacing:2px; color:#F05522; font-size:80%; text-align:left;padding: 0px;\">2019 KAKAO BLIND RECRUITMENT</p>"
   ]
  },
  {
   "cell_type": "markdown",
   "metadata": {},
   "source": [
    "## <p style=\"font-family:JetBrains Mono; font-weight:normal; letter-spacing:2px; color:#E13D21; font-size:70%; text-align:left;padding: 0px;\">오픈 채팅방 (정답률 57%)</p>\n",
    "[문제 링크](https://school.programmers.co.kr/learn/courses/30/lessons/42888)"
   ]
  },
  {
   "cell_type": "code",
   "execution_count": null,
   "metadata": {},
   "outputs": [],
   "source": []
  },
  {
   "cell_type": "markdown",
   "metadata": {},
   "source": [
    "-----------------"
   ]
  },
  {
   "cell_type": "markdown",
   "metadata": {},
   "source": [
    "## <p style=\"font-family:JetBrains Mono; font-weight:normal; letter-spacing:2px; color:#F05522; font-size:80%; text-align:left;padding: 0px;\">월간 코드 챌린지 시즌1</p>"
   ]
  },
  {
   "cell_type": "markdown",
   "metadata": {},
   "source": [
    "## <p style=\"font-family:JetBrains Mono; font-weight:normal; letter-spacing:2px; color:#E13D21; font-size:70%; text-align:left;padding: 0px;\">두 개 뽑아서 더하기 (정답률 70%)</p>\n",
    "[문제 링크](https://school.programmers.co.kr/learn/courses/30/lessons/68644)"
   ]
  },
  {
   "cell_type": "code",
   "execution_count": null,
   "metadata": {},
   "outputs": [],
   "source": []
  },
  {
   "cell_type": "markdown",
   "metadata": {},
   "source": [
    "-----------------"
   ]
  },
  {
   "cell_type": "markdown",
   "metadata": {},
   "source": [
    "## <p style=\"font-family:JetBrains Mono; font-weight:normal; letter-spacing:2px; color:#F05522; font-size:80%; text-align:left;padding: 0px;\">월간 코드 챌린지 시즌1</p>"
   ]
  },
  {
   "cell_type": "markdown",
   "metadata": {},
   "source": [
    "## <p style=\"font-family:JetBrains Mono; font-weight:normal; letter-spacing:2px; color:#E13D21; font-size:70%; text-align:left;padding: 0px;\">3진법 뒤집기 (정답률 76%)</p>\n",
    "[문제 링크](https://school.programmers.co.kr/learn/courses/30/lessons/68935)"
   ]
  },
  {
   "cell_type": "code",
   "execution_count": null,
   "metadata": {},
   "outputs": [],
   "source": []
  },
  {
   "cell_type": "markdown",
   "metadata": {},
   "source": [
    "------------"
   ]
  }
 ],
 "metadata": {
  "kernelspec": {
   "display_name": "genie",
   "language": "python",
   "name": "python3"
  },
  "language_info": {
   "codemirror_mode": {
    "name": "ipython",
    "version": 3
   },
   "file_extension": ".py",
   "mimetype": "text/x-python",
   "name": "python",
   "nbconvert_exporter": "python",
   "pygments_lexer": "ipython3",
   "version": "3.11.2"
  }
 },
 "nbformat": 4,
 "nbformat_minor": 2
}
