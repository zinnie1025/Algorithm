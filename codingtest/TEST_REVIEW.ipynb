{
 "cells": [
  {
   "cell_type": "markdown",
   "metadata": {},
   "source": [
    "## <p style=\"font-family:JetBrains Mono; font-weight:normal; letter-spacing:2px; color:#F05522; font-size:80%; text-align:left;padding: 0px;\">2024 KAKAO WINTER INTERNSHIP</p>"
   ]
  },
  {
   "cell_type": "markdown",
   "metadata": {},
   "source": [
    "## <p style=\"font-family:JetBrains Mono; font-weight:normal; letter-spacing:2px; color:#F52800; font-size:70%; text-align:left;padding: 0px;\">1. 가장 많이 받은 선물 (정답률 21%)</p>\n",
    "[문제 링크](https://school.programmers.co.kr/learn/courses/30/lessons/258712)"
   ]
  },
  {
   "cell_type": "code",
   "execution_count": 1,
   "metadata": {},
   "outputs": [],
   "source": [
    "friends = [\"muzi\", \"ryan\", \"frodo\", \"neo\"]\n",
    "gifts = [\"muzi frodo\", \"muzi frodo\", \"ryan muzi\", \"ryan muzi\", \"ryan muzi\", \"frodo muzi\", \"frodo ryan\", \"neo muzi\"]"
   ]
  },
  {
   "cell_type": "code",
   "execution_count": null,
   "metadata": {},
   "outputs": [],
   "source": []
  },
  {
   "cell_type": "markdown",
   "metadata": {},
   "source": [
    "-----------"
   ]
  },
  {
   "cell_type": "markdown",
   "metadata": {},
   "source": [
    "## <p style=\"font-family:JetBrains Mono; font-weight:normal; letter-spacing:2px; color:#F52800; font-size:70%; text-align:left;padding: 0px;\">2. 데이터 분석 (정답률 47%)</p>"
   ]
  },
  {
   "cell_type": "markdown",
   "metadata": {},
   "source": [
    "## <p style=\"font-family:JetBrains Mono; font-weight:normal; letter-spacing:2px; color:#F05522; font-size:70%; text-align:left;padding: 0px;\">[PCCE 기출문제] 10번</p>\n",
    "[문제 링크](https://school.programmers.co.kr/learn/courses/30/lessons/250121)"
   ]
  },
  {
   "cell_type": "code",
   "execution_count": 2,
   "metadata": {},
   "outputs": [],
   "source": [
    "data = [[1, 20300104, 100, 80], [2, 20300804, 847, 37], [3, 20300401, 10, 8]]\n",
    "ext = \"date\"\n",
    "val_ext = 20300501\n",
    "sort_by = \"remain\""
   ]
  },
  {
   "cell_type": "code",
   "execution_count": null,
   "metadata": {},
   "outputs": [],
   "source": []
  },
  {
   "cell_type": "markdown",
   "metadata": {},
   "source": [
    "-----------"
   ]
  },
  {
   "cell_type": "markdown",
   "metadata": {},
   "source": [
    "## <p style=\"font-family:JetBrains Mono; font-weight:normal; letter-spacing:2px; color:#F05522; font-size:80%; text-align:left;padding: 0px;\">2022 KAKAO BLIND RECRUITMENT</p>"
   ]
  },
  {
   "cell_type": "markdown",
   "metadata": {},
   "source": [
    "## <p style=\"font-family:JetBrains Mono; font-weight:normal; letter-spacing:2px; color:#F52800; font-size:70%; text-align:left;padding: 0px;\">3. 신고 결과 받기 (정답률 37%)</p>\n",
    "[문제 링크](https://school.programmers.co.kr/learn/courses/30/lessons/92334)"
   ]
  },
  {
   "cell_type": "code",
   "execution_count": 3,
   "metadata": {},
   "outputs": [],
   "source": [
    "# id_list = [\"con\", \"ryan\"] #* 이용자의 ID가 담긴 문자열 배열\n",
    "# report = [\"ryan con\", \"ryan con\", \"ryan con\", \"ryan con\"] #* 각 이용자가 신고한 이용자의 ID 정보가 담긴 문자열 배열 report\n",
    "# k = 3 #* 정지 기준이 되는 신고 횟수 \n",
    "\n",
    "id_list = [\"muzi\", \"frodo\", \"apeach\", \"neo\"]\n",
    "report = [\"muzi frodo\",\"apeach frodo\",\"frodo neo\",\"muzi neo\",\"apeach muzi\"]\n",
    "k = 2"
   ]
  },
  {
   "cell_type": "markdown",
   "metadata": {},
   "source": [
    "-----------"
   ]
  },
  {
   "cell_type": "markdown",
   "metadata": {},
   "source": [
    "## <p style=\"font-family:JetBrains Mono; font-weight:normal; letter-spacing:2px; color:#F05522; font-size:80%; text-align:left;padding: 0px;\">2022 KAKAO BLIND RECRUITMENT</p>"
   ]
  },
  {
   "cell_type": "markdown",
   "metadata": {},
   "source": [
    "## <p style=\"font-family:JetBrains Mono; font-weight:normal; letter-spacing:2px; color:#F52800; font-size:70%; text-align:left;padding: 0px;\">4. 주차 요금 계산 (정답률 58%)</p>\n",
    "[문제 링크](https://school.programmers.co.kr/learn/courses/30/lessons/92341)"
   ]
  },
  {
   "cell_type": "code",
   "execution_count": null,
   "metadata": {},
   "outputs": [],
   "source": []
  },
  {
   "cell_type": "markdown",
   "metadata": {},
   "source": [
    "-----------"
   ]
  },
  {
   "cell_type": "markdown",
   "metadata": {},
   "source": [
    "## <p style=\"font-family:JetBrains Mono; font-weight:normal; letter-spacing:2px; color:#F05522; font-size:80%; text-align:left;padding: 0px;\">2021 KAKAO 채용연계형 인턴십</p>"
   ]
  },
  {
   "cell_type": "markdown",
   "metadata": {},
   "source": [
    "## <p style=\"font-family:JetBrains Mono; font-weight:normal; letter-spacing:2px; color:#F52800; font-size:70%; text-align:left;padding: 0px;\">5. 숫자 문자열과 영단어 (정답률 70%)</p>\n",
    "[문제 링크](https://school.programmers.co.kr/learn/courses/30/lessons/81301)"
   ]
  },
  {
   "cell_type": "code",
   "execution_count": null,
   "metadata": {},
   "outputs": [],
   "source": []
  },
  {
   "cell_type": "markdown",
   "metadata": {},
   "source": [
    "-----------"
   ]
  },
  {
   "cell_type": "markdown",
   "metadata": {},
   "source": [
    "## <p style=\"font-family:JetBrains Mono; font-weight:normal; letter-spacing:2px; color:#F05522; font-size:80%; text-align:left;padding: 0px;\">2021 KAKAO BLIND RECRUITMENT</p>"
   ]
  },
  {
   "cell_type": "markdown",
   "metadata": {},
   "source": [
    "## <p style=\"font-family:JetBrains Mono; font-weight:normal; letter-spacing:2px; color:#F52800; font-size:70%; text-align:left;padding: 0px;\">6. 신규 아이디 추천 (정답률 50%)</p>\n",
    "[문제 링크](https://school.programmers.co.kr/learn/courses/30/lessons/72410)"
   ]
  },
  {
   "cell_type": "code",
   "execution_count": 4,
   "metadata": {},
   "outputs": [],
   "source": [
    "#TODO : 카카오 아이디 규칙\n",
    "#* 아이디 길이 3자 이상 15자 이하\n",
    "#* 알파벳 소문자, 숫자, 빼기(-), 밑줄(_), 마침표(.)문자만 사용 가능\n",
    "#* 단, 마침표(.)는 처음과 끝에 사용할 수 없으며 또한 연속으로 사용 불가\n",
    "#! 네오 7단계 처리 과정으로 검사해서 규칙에 맞는지 검사하고 맞지 않으면 신규 아이디 추천"
   ]
  },
  {
   "cell_type": "code",
   "execution_count": null,
   "metadata": {},
   "outputs": [],
   "source": []
  },
  {
   "cell_type": "markdown",
   "metadata": {},
   "source": [
    "-----------"
   ]
  },
  {
   "cell_type": "markdown",
   "metadata": {},
   "source": [
    "## <p style=\"font-family:JetBrains Mono; font-weight:normal; letter-spacing:2px; color:#F05522; font-size:80%; text-align:left;padding: 0px;\">2022 KAKAO TECH INTERNSHIP</p>"
   ]
  },
  {
   "cell_type": "markdown",
   "metadata": {},
   "source": [
    "## <p style=\"font-family:JetBrains Mono; font-weight:normal; letter-spacing:2px; color:#E13D21; font-size:70%; text-align:left;padding: 0px;\">7. 성격 유형 검사하기 (정답률 50%)</p>\n",
    "[문제 링크](https://school.programmers.co.kr/learn/courses/30/lessons/118666)"
   ]
  },
  {
   "cell_type": "code",
   "execution_count": null,
   "metadata": {},
   "outputs": [],
   "source": []
  },
  {
   "cell_type": "markdown",
   "metadata": {},
   "source": [
    "-----------"
   ]
  }
 ],
 "metadata": {
  "kernelspec": {
   "display_name": "genie",
   "language": "python",
   "name": "python3"
  },
  "language_info": {
   "codemirror_mode": {
    "name": "ipython",
    "version": 3
   },
   "file_extension": ".py",
   "mimetype": "text/x-python",
   "name": "python",
   "nbconvert_exporter": "python",
   "pygments_lexer": "ipython3",
   "version": "3.9.19"
  }
 },
 "nbformat": 4,
 "nbformat_minor": 2
}
